{
 "cells": [
  {
   "cell_type": "code",
   "execution_count": 2,
   "metadata": {},
   "outputs": [
    {
     "name": "stderr",
     "output_type": "stream",
     "text": [
      "c:\\Users\\ldronden\\AppData\\Local\\pypoetry\\Cache\\virtualenvs\\publieke-data-predictive-maintenance-6PaKd1Az-py3.9\\lib\\site-packages\\pyspark\\sql\\context.py:77: FutureWarning: Deprecated in 3.0.0. Use SparkSession.builder.getOrCreate() instead.\n",
      "  warnings.warn(\n"
     ]
    }
   ],
   "source": [
    "# import functions\n",
    "\n",
    "from pyspark.sql import SparkSession, SQLContext, Window\n",
    "import pyspark.sql.functions as F\n",
    "from pyspark.sql.types import *\n",
    "import glob\n",
    "import pandas as pd\n",
    "spark = SparkSession.builder.getOrCreate()\n",
    "import collections\n",
    "from collections import Counter\n",
    "from pyspark.sql import functions as F \n",
    "import matplotlib.pyplot as plt\n",
    "\n",
    "import random\n",
    "from math import sqrt\n",
    "from numpy import concatenate\n",
    "from pandas import read_csv\n",
    "from pandas import DataFrame\n",
    "from pandas import concat\n",
    "import numpy as np\n",
    "# Import plotting function\n",
    "from statsmodels.graphics.tsaplots import plot_acf, plot_pacf\n",
    "from sklearn.preprocessing import MinMaxScaler\n",
    "from sklearn.preprocessing import LabelEncoder\n",
    "from sklearn.metrics import mean_squared_error, confusion_matrix\n",
    "from keras.models import Sequential\n",
    "from keras.layers import Dense, TimeDistributed\n",
    "from keras.layers import LSTM\n",
    "from pyspark.sql.functions import percent_rank\n",
    "from pyspark.sql import Window\n",
    "import matplotlib.dates as mdates\n",
    "\n",
    "from tensorflow.keras.layers import Dropout, GRU\n",
    "from tensorflow.keras.optimizers import Adam\n",
    "from tensorflow.keras.losses import MeanSquaredError\n",
    "from tensorflow.keras.callbacks import ModelCheckpoint\n",
    "from tensorflow.keras import regularizers\n",
    "from sklearn.metrics import accuracy_score\n",
    "import tensorflow.keras.losses as loss\n",
    "\n",
    "from sklearn.model_selection import train_test_split\n",
    "\n",
    "\n",
    "sqlContext = SQLContext(spark)"
   ]
  },
  {
   "cell_type": "code",
   "execution_count": 3,
   "metadata": {},
   "outputs": [],
   "source": [
    "data_path = '../data/'\n",
    "\n",
    "PdM_telemetry = spark.read.csv(data_path + 'PdM_telemetry.csv', header=True)\n",
    "PdM_machines = spark.read.csv(data_path + 'PdM_machines.csv', header=True)\n",
    "PdM_failures = spark.read.csv(data_path + 'PdM_failures.csv', header=True)"
   ]
  },
  {
   "cell_type": "code",
   "execution_count": 4,
   "metadata": {},
   "outputs": [],
   "source": [
    "df = PdM_telemetry.join(PdM_machines, ['machineID'], how='left')\n",
    "\n",
    "df = df.join(PdM_failures, ['datetime', 'machineID'], how='left')"
   ]
  },
  {
   "cell_type": "code",
   "execution_count": 5,
   "metadata": {},
   "outputs": [],
   "source": [
    "df = df.withColumn('datetime', F.to_timestamp('datetime'))\n",
    "df = df.withColumn(\"machineID\", F.col(\"machineID\").cast(IntegerType())) \n",
    "df = df.withColumn(\"volt\", F.col(\"volt\").cast(DoubleType())) \n",
    "df = df.withColumn(\"rotate\", F.col(\"rotate\").cast(DoubleType())) \n",
    "df = df.withColumn(\"pressure\", F.col(\"pressure\").cast(DoubleType())) \n",
    "df = df.withColumn(\"vibration\", F.col(\"vibration\").cast(DoubleType())) \n",
    "df = df.withColumn(\"age\", F.col(\"age\").cast(IntegerType())) \n",
    "\n",
    "df = df.withColumn('failure', F.when(df.failure.isNull(), 0).otherwise(1))"
   ]
  },
  {
   "cell_type": "code",
   "execution_count": 6,
   "metadata": {},
   "outputs": [],
   "source": [
    "w = Window.partitionBy('machineID').orderBy('datetime')\n",
    "\n",
    "df = df.withColumn('cycle', F.rank().over(w))"
   ]
  },
  {
   "cell_type": "markdown",
   "metadata": {},
   "source": [
    "## EDA"
   ]
  },
  {
   "cell_type": "code",
   "execution_count": 9,
   "metadata": {},
   "outputs": [],
   "source": [
    "df = df.toPandas()"
   ]
  },
  {
   "cell_type": "code",
   "execution_count": 10,
   "metadata": {},
   "outputs": [
    {
     "data": {
      "text/plain": [
       "(876142, 10)"
      ]
     },
     "execution_count": 10,
     "metadata": {},
     "output_type": "execute_result"
    }
   ],
   "source": [
    "df.shape"
   ]
  },
  {
   "cell_type": "code",
   "execution_count": 11,
   "metadata": {},
   "outputs": [
    {
     "data": {
      "text/plain": [
       "175228"
      ]
     },
     "execution_count": 11,
     "metadata": {},
     "output_type": "execute_result"
    }
   ],
   "source": [
    "test_split=round(len(df)*0.20)\n",
    "test_split"
   ]
  },
  {
   "cell_type": "code",
   "execution_count": 34,
   "metadata": {},
   "outputs": [],
   "source": [
    "df = df.drop(columns='model')"
   ]
  },
  {
   "cell_type": "code",
   "execution_count": 35,
   "metadata": {},
   "outputs": [],
   "source": [
    "df_for_training=df[:-175228]\n",
    "df_for_testing=df[-175228:]"
   ]
  },
  {
   "cell_type": "code",
   "execution_count": 36,
   "metadata": {},
   "outputs": [
    {
     "name": "stdout",
     "output_type": "stream",
     "text": [
      "(700914, 9)\n",
      "(175228, 9)\n"
     ]
    }
   ],
   "source": [
    "print(df_for_training.shape)\n",
    "print(df_for_testing.shape)"
   ]
  },
  {
   "cell_type": "code",
   "execution_count": 37,
   "metadata": {},
   "outputs": [
    {
     "data": {
      "text/html": [
       "<div>\n",
       "<style scoped>\n",
       "    .dataframe tbody tr th:only-of-type {\n",
       "        vertical-align: middle;\n",
       "    }\n",
       "\n",
       "    .dataframe tbody tr th {\n",
       "        vertical-align: top;\n",
       "    }\n",
       "\n",
       "    .dataframe thead th {\n",
       "        text-align: right;\n",
       "    }\n",
       "</style>\n",
       "<table border=\"1\" class=\"dataframe\">\n",
       "  <thead>\n",
       "    <tr style=\"text-align: right;\">\n",
       "      <th></th>\n",
       "      <th>datetime</th>\n",
       "      <th>machineID</th>\n",
       "      <th>volt</th>\n",
       "      <th>rotate</th>\n",
       "      <th>pressure</th>\n",
       "      <th>vibration</th>\n",
       "      <th>age</th>\n",
       "      <th>failure</th>\n",
       "      <th>cycle</th>\n",
       "    </tr>\n",
       "  </thead>\n",
       "  <tbody>\n",
       "    <tr>\n",
       "      <th>0</th>\n",
       "      <td>2015-01-01 06:00:00</td>\n",
       "      <td>28</td>\n",
       "      <td>184.307299</td>\n",
       "      <td>491.259532</td>\n",
       "      <td>106.203055</td>\n",
       "      <td>42.438195</td>\n",
       "      <td>1</td>\n",
       "      <td>0</td>\n",
       "      <td>1</td>\n",
       "    </tr>\n",
       "    <tr>\n",
       "      <th>1</th>\n",
       "      <td>2015-01-01 07:00:00</td>\n",
       "      <td>28</td>\n",
       "      <td>204.057451</td>\n",
       "      <td>448.828602</td>\n",
       "      <td>88.103328</td>\n",
       "      <td>42.225094</td>\n",
       "      <td>1</td>\n",
       "      <td>0</td>\n",
       "      <td>2</td>\n",
       "    </tr>\n",
       "    <tr>\n",
       "      <th>2</th>\n",
       "      <td>2015-01-01 08:00:00</td>\n",
       "      <td>28</td>\n",
       "      <td>163.617989</td>\n",
       "      <td>469.765913</td>\n",
       "      <td>105.329638</td>\n",
       "      <td>31.152873</td>\n",
       "      <td>1</td>\n",
       "      <td>0</td>\n",
       "      <td>3</td>\n",
       "    </tr>\n",
       "    <tr>\n",
       "      <th>3</th>\n",
       "      <td>2015-01-01 09:00:00</td>\n",
       "      <td>28</td>\n",
       "      <td>160.844715</td>\n",
       "      <td>448.495945</td>\n",
       "      <td>103.262838</td>\n",
       "      <td>39.525679</td>\n",
       "      <td>1</td>\n",
       "      <td>0</td>\n",
       "      <td>4</td>\n",
       "    </tr>\n",
       "    <tr>\n",
       "      <th>4</th>\n",
       "      <td>2015-01-01 10:00:00</td>\n",
       "      <td>28</td>\n",
       "      <td>194.185401</td>\n",
       "      <td>452.966573</td>\n",
       "      <td>110.873700</td>\n",
       "      <td>45.645514</td>\n",
       "      <td>1</td>\n",
       "      <td>0</td>\n",
       "      <td>5</td>\n",
       "    </tr>\n",
       "    <tr>\n",
       "      <th>...</th>\n",
       "      <td>...</td>\n",
       "      <td>...</td>\n",
       "      <td>...</td>\n",
       "      <td>...</td>\n",
       "      <td>...</td>\n",
       "      <td>...</td>\n",
       "      <td>...</td>\n",
       "      <td>...</td>\n",
       "      <td>...</td>\n",
       "    </tr>\n",
       "    <tr>\n",
       "      <th>700909</th>\n",
       "      <td>2016-01-01 03:00:00</td>\n",
       "      <td>98</td>\n",
       "      <td>180.410465</td>\n",
       "      <td>485.467071</td>\n",
       "      <td>117.467661</td>\n",
       "      <td>37.321110</td>\n",
       "      <td>20</td>\n",
       "      <td>0</td>\n",
       "      <td>8760</td>\n",
       "    </tr>\n",
       "    <tr>\n",
       "      <th>700910</th>\n",
       "      <td>2016-01-01 04:00:00</td>\n",
       "      <td>98</td>\n",
       "      <td>158.354201</td>\n",
       "      <td>389.828191</td>\n",
       "      <td>121.270784</td>\n",
       "      <td>38.201489</td>\n",
       "      <td>20</td>\n",
       "      <td>0</td>\n",
       "      <td>8761</td>\n",
       "    </tr>\n",
       "    <tr>\n",
       "      <th>700911</th>\n",
       "      <td>2016-01-01 05:00:00</td>\n",
       "      <td>98</td>\n",
       "      <td>193.754368</td>\n",
       "      <td>450.198921</td>\n",
       "      <td>127.851932</td>\n",
       "      <td>39.800055</td>\n",
       "      <td>20</td>\n",
       "      <td>0</td>\n",
       "      <td>8762</td>\n",
       "    </tr>\n",
       "    <tr>\n",
       "      <th>700912</th>\n",
       "      <td>2016-01-01 06:00:00</td>\n",
       "      <td>98</td>\n",
       "      <td>165.717790</td>\n",
       "      <td>501.520194</td>\n",
       "      <td>114.553412</td>\n",
       "      <td>37.696504</td>\n",
       "      <td>20</td>\n",
       "      <td>0</td>\n",
       "      <td>8763</td>\n",
       "    </tr>\n",
       "    <tr>\n",
       "      <th>700913</th>\n",
       "      <td>2015-01-01 06:00:00</td>\n",
       "      <td>11</td>\n",
       "      <td>164.039259</td>\n",
       "      <td>389.699577</td>\n",
       "      <td>113.619975</td>\n",
       "      <td>29.775109</td>\n",
       "      <td>6</td>\n",
       "      <td>0</td>\n",
       "      <td>1</td>\n",
       "    </tr>\n",
       "  </tbody>\n",
       "</table>\n",
       "<p>700914 rows × 9 columns</p>\n",
       "</div>"
      ],
      "text/plain": [
       "                  datetime  machineID        volt      rotate    pressure  \\\n",
       "0      2015-01-01 06:00:00         28  184.307299  491.259532  106.203055   \n",
       "1      2015-01-01 07:00:00         28  204.057451  448.828602   88.103328   \n",
       "2      2015-01-01 08:00:00         28  163.617989  469.765913  105.329638   \n",
       "3      2015-01-01 09:00:00         28  160.844715  448.495945  103.262838   \n",
       "4      2015-01-01 10:00:00         28  194.185401  452.966573  110.873700   \n",
       "...                    ...        ...         ...         ...         ...   \n",
       "700909 2016-01-01 03:00:00         98  180.410465  485.467071  117.467661   \n",
       "700910 2016-01-01 04:00:00         98  158.354201  389.828191  121.270784   \n",
       "700911 2016-01-01 05:00:00         98  193.754368  450.198921  127.851932   \n",
       "700912 2016-01-01 06:00:00         98  165.717790  501.520194  114.553412   \n",
       "700913 2015-01-01 06:00:00         11  164.039259  389.699577  113.619975   \n",
       "\n",
       "        vibration  age  failure  cycle  \n",
       "0       42.438195    1        0      1  \n",
       "1       42.225094    1        0      2  \n",
       "2       31.152873    1        0      3  \n",
       "3       39.525679    1        0      4  \n",
       "4       45.645514    1        0      5  \n",
       "...           ...  ...      ...    ...  \n",
       "700909  37.321110   20        0   8760  \n",
       "700910  38.201489   20        0   8761  \n",
       "700911  39.800055   20        0   8762  \n",
       "700912  37.696504   20        0   8763  \n",
       "700913  29.775109    6        0      1  \n",
       "\n",
       "[700914 rows x 9 columns]"
      ]
     },
     "execution_count": 37,
     "metadata": {},
     "output_type": "execute_result"
    }
   ],
   "source": [
    "df_for_training"
   ]
  },
  {
   "cell_type": "code",
   "execution_count": 38,
   "metadata": {},
   "outputs": [
    {
     "name": "stderr",
     "output_type": "stream",
     "text": [
      "C:\\Users\\ldronden\\AppData\\Local\\Temp\\ipykernel_28308\\1040265715.py:1: SettingWithCopyWarning: \n",
      "A value is trying to be set on a copy of a slice from a DataFrame.\n",
      "Try using .loc[row_indexer,col_indexer] = value instead\n",
      "\n",
      "See the caveats in the documentation: https://pandas.pydata.org/pandas-docs/stable/user_guide/indexing.html#returning-a-view-versus-a-copy\n",
      "  df_for_training['datetime'] = pd.to_numeric(pd.to_datetime(df_for_training['datetime']))\n",
      "C:\\Users\\ldronden\\AppData\\Local\\Temp\\ipykernel_28308\\1040265715.py:2: SettingWithCopyWarning: \n",
      "A value is trying to be set on a copy of a slice from a DataFrame.\n",
      "Try using .loc[row_indexer,col_indexer] = value instead\n",
      "\n",
      "See the caveats in the documentation: https://pandas.pydata.org/pandas-docs/stable/user_guide/indexing.html#returning-a-view-versus-a-copy\n",
      "  df_for_testing['datetime'] = pd.to_numeric(pd.to_datetime(df_for_testing['datetime']))\n"
     ]
    }
   ],
   "source": [
    "df_for_training['datetime'] = pd.to_numeric(pd.to_datetime(df_for_training['datetime']))\n",
    "df_for_testing['datetime'] = pd.to_numeric(pd.to_datetime(df_for_testing['datetime']))"
   ]
  },
  {
   "cell_type": "code",
   "execution_count": 39,
   "metadata": {},
   "outputs": [],
   "source": [
    "scaler = MinMaxScaler(feature_range=(0,1))\n",
    "df_for_training_scaled = scaler.fit_transform(df_for_training)\n",
    "df_for_testing_scaled=scaler.transform(df_for_testing)"
   ]
  },
  {
   "cell_type": "code",
   "execution_count": 40,
   "metadata": {},
   "outputs": [
    {
     "data": {
      "text/plain": [
       "array([[0.00000000e+00, 2.72727273e-01, 5.51195141e-01, ...,\n",
       "        5.00000000e-02, 0.00000000e+00, 0.00000000e+00],\n",
       "       [1.14155251e-04, 2.72727273e-01, 6.76361584e-01, ...,\n",
       "        5.00000000e-02, 0.00000000e+00, 1.14116170e-04],\n",
       "       [2.28310502e-04, 2.72727273e-01, 4.20076796e-01, ...,\n",
       "        5.00000000e-02, 0.00000000e+00, 2.28232341e-04],\n",
       "       ...,\n",
       "       [9.99885845e-01, 9.79797980e-01, 6.11065873e-01, ...,\n",
       "        1.00000000e+00, 0.00000000e+00, 9.99771768e-01],\n",
       "       [1.00000000e+00, 9.79797980e-01, 4.33384269e-01, ...,\n",
       "        1.00000000e+00, 0.00000000e+00, 9.99885884e-01],\n",
       "       [0.00000000e+00, 1.01010101e-01, 4.22746590e-01, ...,\n",
       "        3.00000000e-01, 0.00000000e+00, 0.00000000e+00]])"
      ]
     },
     "execution_count": 40,
     "metadata": {},
     "output_type": "execute_result"
    }
   ],
   "source": [
    "df_for_training_scaled"
   ]
  },
  {
   "cell_type": "code",
   "execution_count": 41,
   "metadata": {},
   "outputs": [
    {
     "name": "stdout",
     "output_type": "stream",
     "text": [
      "(700914, 9)\n",
      "(175228, 9)\n"
     ]
    }
   ],
   "source": [
    "print(df_for_training_scaled.shape)\n",
    "print(df_for_testing_scaled.shape)\n"
   ]
  },
  {
   "cell_type": "code",
   "execution_count": 42,
   "metadata": {},
   "outputs": [],
   "source": [
    "def createXY(dataset,n_past):\n",
    "    dataX = []\n",
    "    dataY = []\n",
    "    for i in range(n_past, len(dataset)):\n",
    "            dataX.append(dataset[i - n_past:i, 0:dataset.shape[1]])\n",
    "            dataY.append(dataset[i,0])\n",
    "    return np.array(dataX),np.array(dataY)      "
   ]
  },
  {
   "cell_type": "code",
   "execution_count": 43,
   "metadata": {},
   "outputs": [],
   "source": [
    "trainX,trainY=createXY(df_for_training_scaled,30)"
   ]
  },
  {
   "cell_type": "code",
   "execution_count": 45,
   "metadata": {},
   "outputs": [],
   "source": [
    "testX,testY=createXY(df_for_testing_scaled,30)\n"
   ]
  },
  {
   "cell_type": "code",
   "execution_count": 46,
   "metadata": {},
   "outputs": [
    {
     "name": "stdout",
     "output_type": "stream",
     "text": [
      "trainX Shape:  (700884, 30, 9)\n",
      "trainY Shape:  (700884,)\n"
     ]
    }
   ],
   "source": [
    "print(\"trainX Shape: \",trainX.shape)\n",
    "print(\"trainY Shape: \",trainY.shape)"
   ]
  },
  {
   "cell_type": "code",
   "execution_count": 47,
   "metadata": {},
   "outputs": [
    {
     "name": "stdout",
     "output_type": "stream",
     "text": [
      "testX Shape--  (175198, 30, 9)\n",
      "testY Shape--  (175198,)\n"
     ]
    }
   ],
   "source": [
    "print(\"testX Shape: \",testX.shape)\n",
    "print(\"testY Shape: \",testY.shape)"
   ]
  },
  {
   "cell_type": "code",
   "execution_count": 49,
   "metadata": {},
   "outputs": [],
   "source": [
    "from keras.wrappers.scikit_learn import KerasRegressor\n",
    "from sklearn.model_selection import GridSearchCV"
   ]
  },
  {
   "cell_type": "code",
   "execution_count": 53,
   "metadata": {},
   "outputs": [
    {
     "name": "stderr",
     "output_type": "stream",
     "text": [
      "C:\\Users\\ldronden\\AppData\\Local\\Temp\\ipykernel_28308\\851559994.py:14: DeprecationWarning: KerasRegressor is deprecated, use Sci-Keras (https://github.com/adriangb/scikeras) instead. See https://www.adriangb.com/scikeras/stable/migration.html for help migrating.\n",
      "  grid_model = KerasRegressor(build_fn=build_model,verbose=1,validation_data=(testX,testY))\n"
     ]
    }
   ],
   "source": [
    "shape = trainX.shape[1]\n",
    "feat_length = trainX.shape[2]\n",
    "\n",
    "def build_model(optimizer):\n",
    "    grid_model = Sequential()\n",
    "    grid_model.add(LSTM(50,return_sequences=True,input_shape=(shape, feat_length)))\n",
    "    grid_model.add(LSTM(50))\n",
    "    grid_model.add(Dropout(0.2))\n",
    "    grid_model.add(Dense(1))\n",
    "\n",
    "    grid_model.compile(loss = 'mse',optimizer = optimizer)\n",
    "    return grid_model\n",
    "\n",
    "grid_model = KerasRegressor(build_fn=build_model,verbose=1,validation_data=(testX,testY))\n",
    "parameters = {'batch_size' : [16,20],\n",
    "              'epochs' : [8,10],\n",
    "              'optimizer' : ['adam','Adadelta'] }\n",
    "\n",
    "grid_search  = GridSearchCV(estimator = grid_model,\n",
    "                            param_grid = parameters,\n",
    "                            cv = 2)"
   ]
  },
  {
   "cell_type": "code",
   "execution_count": 55,
   "metadata": {},
   "outputs": [
    {
     "name": "stdout",
     "output_type": "stream",
     "text": [
      "Epoch 1/8\n",
      "21903/21903 [==============================] - 323s 15ms/step - loss: 9.7138e-04 - val_loss: 1.3748e-04\n",
      "Epoch 2/8\n",
      "21903/21903 [==============================] - 331s 15ms/step - loss: 6.0688e-04 - val_loss: 1.1263e-04\n",
      "Epoch 3/8\n",
      "21903/21903 [==============================] - 343s 16ms/step - loss: 5.9154e-04 - val_loss: 1.1973e-04\n",
      "Epoch 4/8\n",
      "21903/21903 [==============================] - 311s 14ms/step - loss: 5.8359e-04 - val_loss: 5.7473e-04\n",
      "Epoch 5/8\n",
      "21903/21903 [==============================] - 321s 15ms/step - loss: 5.7085e-04 - val_loss: 1.1716e-04\n",
      "Epoch 6/8\n",
      "21903/21903 [==============================] - 313s 14ms/step - loss: 5.7448e-04 - val_loss: 1.3926e-04\n",
      "Epoch 7/8\n",
      "21903/21903 [==============================] - 312s 14ms/step - loss: 5.6947e-04 - val_loss: 1.1817e-04\n",
      "Epoch 8/8\n",
      "21903/21903 [==============================] - 312s 14ms/step - loss: 5.6258e-04 - val_loss: 1.4106e-04\n",
      "21903/21903 [==============================] - 82s 4ms/step - loss: 1.4680e-04\n",
      "Epoch 1/8\n",
      "21903/21903 [==============================] - 375s 17ms/step - loss: 0.0011 - val_loss: 1.9416e-04\n",
      "Epoch 2/8\n",
      "21903/21903 [==============================] - 372s 17ms/step - loss: 6.0895e-04 - val_loss: 1.6901e-04\n",
      "Epoch 3/8\n",
      "21903/21903 [==============================] - 369s 17ms/step - loss: 5.9114e-04 - val_loss: 1.5278e-04\n",
      "Epoch 4/8\n",
      "21903/21903 [==============================] - 24305s 1s/step - loss: 5.8039e-04 - val_loss: 1.1630e-04\n",
      "Epoch 5/8\n",
      "21903/21903 [==============================] - 323s 15ms/step - loss: 5.8001e-04 - val_loss: 1.1832e-04\n",
      "Epoch 6/8\n",
      "21903/21903 [==============================] - 331s 15ms/step - loss: 5.6938e-04 - val_loss: 6.6139e-04\n",
      "Epoch 7/8\n",
      "21903/21903 [==============================] - 454s 21ms/step - loss: 5.6539e-04 - val_loss: 1.1391e-04\n",
      "Epoch 8/8\n",
      "21903/21903 [==============================] - 307s 14ms/step - loss: 5.6676e-04 - val_loss: 1.6653e-04\n",
      "21903/21903 [==============================] - 79s 4ms/step - loss: 1.7248e-04\n",
      "Epoch 1/8\n",
      "21903/21903 [==============================] - 1755s 80ms/step - loss: 0.0308 - val_loss: 9.4966e-04\n",
      "Epoch 2/8\n",
      "21903/21903 [==============================] - 307s 14ms/step - loss: 0.0052 - val_loss: 8.6325e-04\n",
      "Epoch 3/8\n",
      "21903/21903 [==============================] - 293s 13ms/step - loss: 0.0040 - val_loss: 8.0686e-04\n",
      "Epoch 4/8\n",
      "21903/21903 [==============================] - 298s 14ms/step - loss: 0.0035 - val_loss: 7.7633e-04\n",
      "Epoch 5/8\n",
      "21903/21903 [==============================] - 300s 14ms/step - loss: 0.0032 - val_loss: 7.5070e-04\n",
      "Epoch 6/8\n",
      "21903/21903 [==============================] - 567s 26ms/step - loss: 0.0030 - val_loss: 7.4079e-04\n",
      "Epoch 7/8\n",
      "21903/21903 [==============================] - 303s 14ms/step - loss: 0.0029 - val_loss: 7.0934e-04\n",
      "Epoch 8/8\n",
      "21903/21903 [==============================] - 317s 14ms/step - loss: 0.0027 - val_loss: 7.0092e-04\n",
      "21903/21903 [==============================] - 79s 4ms/step - loss: 7.4034e-04\n",
      "Epoch 1/8\n",
      "21903/21903 [==============================] - 349s 16ms/step - loss: 0.0341 - val_loss: 0.0011\n",
      "Epoch 2/8\n",
      "21903/21903 [==============================] - 351s 16ms/step - loss: 0.0048 - val_loss: 9.4417e-04\n",
      "Epoch 3/8\n",
      "21903/21903 [==============================] - 343s 16ms/step - loss: 0.0040 - val_loss: 8.4803e-04\n",
      "Epoch 4/8\n",
      "21903/21903 [==============================] - 326s 15ms/step - loss: 0.0036 - val_loss: 7.9703e-04\n",
      "Epoch 5/8\n",
      "21903/21903 [==============================] - 316s 14ms/step - loss: 0.0033 - val_loss: 7.4636e-04\n",
      "Epoch 6/8\n",
      "21903/21903 [==============================] - 335s 15ms/step - loss: 0.0031 - val_loss: 7.2081e-04\n",
      "Epoch 7/8\n",
      "21903/21903 [==============================] - 398s 18ms/step - loss: 0.0030 - val_loss: 6.9461e-04\n",
      "Epoch 8/8\n",
      "21903/21903 [==============================] - 450s 21ms/step - loss: 0.0028 - val_loss: 6.7526e-04\n",
      "21903/21903 [==============================] - 103s 5ms/step - loss: 7.0733e-04\n",
      "Epoch 1/10\n",
      "21903/21903 [==============================] - 347s 16ms/step - loss: 9.5570e-04 - val_loss: 1.9868e-04\n",
      "Epoch 2/10\n",
      "21903/21903 [==============================] - 320s 15ms/step - loss: 6.0386e-04 - val_loss: 1.8839e-04\n",
      "Epoch 3/10\n",
      "21903/21903 [==============================] - 322s 15ms/step - loss: 5.8953e-04 - val_loss: 1.5214e-04\n",
      "Epoch 4/10\n",
      "21903/21903 [==============================] - 507s 23ms/step - loss: 5.8075e-04 - val_loss: 1.6941e-04\n",
      "Epoch 5/10\n",
      "21903/21903 [==============================] - 343s 16ms/step - loss: 5.7541e-04 - val_loss: 1.1208e-04\n",
      "Epoch 6/10\n",
      "21903/21903 [==============================] - 345s 16ms/step - loss: 5.7052e-04 - val_loss: 1.1242e-04\n",
      "Epoch 7/10\n",
      "21903/21903 [==============================] - 335s 15ms/step - loss: 5.6978e-04 - val_loss: 1.1965e-04\n",
      "Epoch 8/10\n",
      "21903/21903 [==============================] - 324s 15ms/step - loss: 5.6930e-04 - val_loss: 1.4224e-04\n",
      "Epoch 9/10\n",
      "21903/21903 [==============================] - 337s 15ms/step - loss: 5.6564e-04 - val_loss: 1.1078e-04\n",
      "Epoch 10/10\n",
      "21903/21903 [==============================] - 379s 17ms/step - loss: 5.6255e-04 - val_loss: 1.4889e-04\n",
      "21903/21903 [==============================] - 105s 5ms/step - loss: 1.5330e-04\n",
      "Epoch 1/10\n",
      "21903/21903 [==============================] - 597s 27ms/step - loss: 9.5312e-04 - val_loss: 2.0124e-04\n",
      "Epoch 2/10\n",
      "21903/21903 [==============================] - 587s 27ms/step - loss: 6.0620e-04 - val_loss: 1.8417e-04\n",
      "Epoch 3/10\n",
      "21903/21903 [==============================] - 587s 27ms/step - loss: 5.9502e-04 - val_loss: 1.6301e-04\n",
      "Epoch 4/10\n",
      "21903/21903 [==============================] - 532s 24ms/step - loss: 5.8279e-04 - val_loss: 1.1800e-04\n",
      "Epoch 5/10\n",
      "21903/21903 [==============================] - 592s 27ms/step - loss: 5.7572e-04 - val_loss: 1.1696e-04\n",
      "Epoch 6/10\n",
      "21903/21903 [==============================] - 583s 27ms/step - loss: 5.7281e-04 - val_loss: 1.8296e-04\n",
      "Epoch 7/10\n",
      " 8558/21903 [==========>...................] - ETA: 5:25 - loss: 5.3305e-04"
     ]
    },
    {
     "ename": "KeyboardInterrupt",
     "evalue": "",
     "output_type": "error",
     "traceback": [
      "\u001b[1;31m---------------------------------------------------------------------------\u001b[0m",
      "\u001b[1;31mKeyboardInterrupt\u001b[0m                         Traceback (most recent call last)",
      "\u001b[1;32mc:\\Users\\ldronden\\publieke_data_predictive_maintenance\\notebooks\\new_lstm.ipynb Cell 25'\u001b[0m in \u001b[0;36m<cell line: 1>\u001b[1;34m()\u001b[0m\n\u001b[1;32m----> <a href='vscode-notebook-cell:/c%3A/Users/ldronden/publieke_data_predictive_maintenance/notebooks/new_lstm.ipynb#ch0000027?line=0'>1</a>\u001b[0m grid_search \u001b[39m=\u001b[39m grid_search\u001b[39m.\u001b[39;49mfit(trainX,trainY)\n",
      "File \u001b[1;32mc:\\Users\\ldronden\\AppData\\Local\\pypoetry\\Cache\\virtualenvs\\publieke-data-predictive-maintenance-6PaKd1Az-py3.9\\lib\\site-packages\\sklearn\\model_selection\\_search.py:891\u001b[0m, in \u001b[0;36mBaseSearchCV.fit\u001b[1;34m(self, X, y, groups, **fit_params)\u001b[0m\n\u001b[0;32m    <a href='file:///c%3A/Users/ldronden/AppData/Local/pypoetry/Cache/virtualenvs/publieke-data-predictive-maintenance-6PaKd1Az-py3.9/lib/site-packages/sklearn/model_selection/_search.py?line=884'>885</a>\u001b[0m     results \u001b[39m=\u001b[39m \u001b[39mself\u001b[39m\u001b[39m.\u001b[39m_format_results(\n\u001b[0;32m    <a href='file:///c%3A/Users/ldronden/AppData/Local/pypoetry/Cache/virtualenvs/publieke-data-predictive-maintenance-6PaKd1Az-py3.9/lib/site-packages/sklearn/model_selection/_search.py?line=885'>886</a>\u001b[0m         all_candidate_params, n_splits, all_out, all_more_results\n\u001b[0;32m    <a href='file:///c%3A/Users/ldronden/AppData/Local/pypoetry/Cache/virtualenvs/publieke-data-predictive-maintenance-6PaKd1Az-py3.9/lib/site-packages/sklearn/model_selection/_search.py?line=886'>887</a>\u001b[0m     )\n\u001b[0;32m    <a href='file:///c%3A/Users/ldronden/AppData/Local/pypoetry/Cache/virtualenvs/publieke-data-predictive-maintenance-6PaKd1Az-py3.9/lib/site-packages/sklearn/model_selection/_search.py?line=888'>889</a>\u001b[0m     \u001b[39mreturn\u001b[39;00m results\n\u001b[1;32m--> <a href='file:///c%3A/Users/ldronden/AppData/Local/pypoetry/Cache/virtualenvs/publieke-data-predictive-maintenance-6PaKd1Az-py3.9/lib/site-packages/sklearn/model_selection/_search.py?line=890'>891</a>\u001b[0m \u001b[39mself\u001b[39;49m\u001b[39m.\u001b[39;49m_run_search(evaluate_candidates)\n\u001b[0;32m    <a href='file:///c%3A/Users/ldronden/AppData/Local/pypoetry/Cache/virtualenvs/publieke-data-predictive-maintenance-6PaKd1Az-py3.9/lib/site-packages/sklearn/model_selection/_search.py?line=892'>893</a>\u001b[0m \u001b[39m# multimetric is determined here because in the case of a callable\u001b[39;00m\n\u001b[0;32m    <a href='file:///c%3A/Users/ldronden/AppData/Local/pypoetry/Cache/virtualenvs/publieke-data-predictive-maintenance-6PaKd1Az-py3.9/lib/site-packages/sklearn/model_selection/_search.py?line=893'>894</a>\u001b[0m \u001b[39m# self.scoring the return type is only known after calling\u001b[39;00m\n\u001b[0;32m    <a href='file:///c%3A/Users/ldronden/AppData/Local/pypoetry/Cache/virtualenvs/publieke-data-predictive-maintenance-6PaKd1Az-py3.9/lib/site-packages/sklearn/model_selection/_search.py?line=894'>895</a>\u001b[0m first_test_score \u001b[39m=\u001b[39m all_out[\u001b[39m0\u001b[39m][\u001b[39m\"\u001b[39m\u001b[39mtest_scores\u001b[39m\u001b[39m\"\u001b[39m]\n",
      "File \u001b[1;32mc:\\Users\\ldronden\\AppData\\Local\\pypoetry\\Cache\\virtualenvs\\publieke-data-predictive-maintenance-6PaKd1Az-py3.9\\lib\\site-packages\\sklearn\\model_selection\\_search.py:1392\u001b[0m, in \u001b[0;36mGridSearchCV._run_search\u001b[1;34m(self, evaluate_candidates)\u001b[0m\n\u001b[0;32m   <a href='file:///c%3A/Users/ldronden/AppData/Local/pypoetry/Cache/virtualenvs/publieke-data-predictive-maintenance-6PaKd1Az-py3.9/lib/site-packages/sklearn/model_selection/_search.py?line=1389'>1390</a>\u001b[0m \u001b[39mdef\u001b[39;00m \u001b[39m_run_search\u001b[39m(\u001b[39mself\u001b[39m, evaluate_candidates):\n\u001b[0;32m   <a href='file:///c%3A/Users/ldronden/AppData/Local/pypoetry/Cache/virtualenvs/publieke-data-predictive-maintenance-6PaKd1Az-py3.9/lib/site-packages/sklearn/model_selection/_search.py?line=1390'>1391</a>\u001b[0m     \u001b[39m\"\"\"Search all candidates in param_grid\"\"\"\u001b[39;00m\n\u001b[1;32m-> <a href='file:///c%3A/Users/ldronden/AppData/Local/pypoetry/Cache/virtualenvs/publieke-data-predictive-maintenance-6PaKd1Az-py3.9/lib/site-packages/sklearn/model_selection/_search.py?line=1391'>1392</a>\u001b[0m     evaluate_candidates(ParameterGrid(\u001b[39mself\u001b[39;49m\u001b[39m.\u001b[39;49mparam_grid))\n",
      "File \u001b[1;32mc:\\Users\\ldronden\\AppData\\Local\\pypoetry\\Cache\\virtualenvs\\publieke-data-predictive-maintenance-6PaKd1Az-py3.9\\lib\\site-packages\\sklearn\\model_selection\\_search.py:838\u001b[0m, in \u001b[0;36mBaseSearchCV.fit.<locals>.evaluate_candidates\u001b[1;34m(candidate_params, cv, more_results)\u001b[0m\n\u001b[0;32m    <a href='file:///c%3A/Users/ldronden/AppData/Local/pypoetry/Cache/virtualenvs/publieke-data-predictive-maintenance-6PaKd1Az-py3.9/lib/site-packages/sklearn/model_selection/_search.py?line=829'>830</a>\u001b[0m \u001b[39mif\u001b[39;00m \u001b[39mself\u001b[39m\u001b[39m.\u001b[39mverbose \u001b[39m>\u001b[39m \u001b[39m0\u001b[39m:\n\u001b[0;32m    <a href='file:///c%3A/Users/ldronden/AppData/Local/pypoetry/Cache/virtualenvs/publieke-data-predictive-maintenance-6PaKd1Az-py3.9/lib/site-packages/sklearn/model_selection/_search.py?line=830'>831</a>\u001b[0m     \u001b[39mprint\u001b[39m(\n\u001b[0;32m    <a href='file:///c%3A/Users/ldronden/AppData/Local/pypoetry/Cache/virtualenvs/publieke-data-predictive-maintenance-6PaKd1Az-py3.9/lib/site-packages/sklearn/model_selection/_search.py?line=831'>832</a>\u001b[0m         \u001b[39m\"\u001b[39m\u001b[39mFitting \u001b[39m\u001b[39m{0}\u001b[39;00m\u001b[39m folds for each of \u001b[39m\u001b[39m{1}\u001b[39;00m\u001b[39m candidates,\u001b[39m\u001b[39m\"\u001b[39m\n\u001b[0;32m    <a href='file:///c%3A/Users/ldronden/AppData/Local/pypoetry/Cache/virtualenvs/publieke-data-predictive-maintenance-6PaKd1Az-py3.9/lib/site-packages/sklearn/model_selection/_search.py?line=832'>833</a>\u001b[0m         \u001b[39m\"\u001b[39m\u001b[39m totalling \u001b[39m\u001b[39m{2}\u001b[39;00m\u001b[39m fits\u001b[39m\u001b[39m\"\u001b[39m\u001b[39m.\u001b[39mformat(\n\u001b[0;32m    <a href='file:///c%3A/Users/ldronden/AppData/Local/pypoetry/Cache/virtualenvs/publieke-data-predictive-maintenance-6PaKd1Az-py3.9/lib/site-packages/sklearn/model_selection/_search.py?line=833'>834</a>\u001b[0m             n_splits, n_candidates, n_candidates \u001b[39m*\u001b[39m n_splits\n\u001b[0;32m    <a href='file:///c%3A/Users/ldronden/AppData/Local/pypoetry/Cache/virtualenvs/publieke-data-predictive-maintenance-6PaKd1Az-py3.9/lib/site-packages/sklearn/model_selection/_search.py?line=834'>835</a>\u001b[0m         )\n\u001b[0;32m    <a href='file:///c%3A/Users/ldronden/AppData/Local/pypoetry/Cache/virtualenvs/publieke-data-predictive-maintenance-6PaKd1Az-py3.9/lib/site-packages/sklearn/model_selection/_search.py?line=835'>836</a>\u001b[0m     )\n\u001b[1;32m--> <a href='file:///c%3A/Users/ldronden/AppData/Local/pypoetry/Cache/virtualenvs/publieke-data-predictive-maintenance-6PaKd1Az-py3.9/lib/site-packages/sklearn/model_selection/_search.py?line=837'>838</a>\u001b[0m out \u001b[39m=\u001b[39m parallel(\n\u001b[0;32m    <a href='file:///c%3A/Users/ldronden/AppData/Local/pypoetry/Cache/virtualenvs/publieke-data-predictive-maintenance-6PaKd1Az-py3.9/lib/site-packages/sklearn/model_selection/_search.py?line=838'>839</a>\u001b[0m     delayed(_fit_and_score)(\n\u001b[0;32m    <a href='file:///c%3A/Users/ldronden/AppData/Local/pypoetry/Cache/virtualenvs/publieke-data-predictive-maintenance-6PaKd1Az-py3.9/lib/site-packages/sklearn/model_selection/_search.py?line=839'>840</a>\u001b[0m         clone(base_estimator),\n\u001b[0;32m    <a href='file:///c%3A/Users/ldronden/AppData/Local/pypoetry/Cache/virtualenvs/publieke-data-predictive-maintenance-6PaKd1Az-py3.9/lib/site-packages/sklearn/model_selection/_search.py?line=840'>841</a>\u001b[0m         X,\n\u001b[0;32m    <a href='file:///c%3A/Users/ldronden/AppData/Local/pypoetry/Cache/virtualenvs/publieke-data-predictive-maintenance-6PaKd1Az-py3.9/lib/site-packages/sklearn/model_selection/_search.py?line=841'>842</a>\u001b[0m         y,\n\u001b[0;32m    <a href='file:///c%3A/Users/ldronden/AppData/Local/pypoetry/Cache/virtualenvs/publieke-data-predictive-maintenance-6PaKd1Az-py3.9/lib/site-packages/sklearn/model_selection/_search.py?line=842'>843</a>\u001b[0m         train\u001b[39m=\u001b[39;49mtrain,\n\u001b[0;32m    <a href='file:///c%3A/Users/ldronden/AppData/Local/pypoetry/Cache/virtualenvs/publieke-data-predictive-maintenance-6PaKd1Az-py3.9/lib/site-packages/sklearn/model_selection/_search.py?line=843'>844</a>\u001b[0m         test\u001b[39m=\u001b[39;49mtest,\n\u001b[0;32m    <a href='file:///c%3A/Users/ldronden/AppData/Local/pypoetry/Cache/virtualenvs/publieke-data-predictive-maintenance-6PaKd1Az-py3.9/lib/site-packages/sklearn/model_selection/_search.py?line=844'>845</a>\u001b[0m         parameters\u001b[39m=\u001b[39;49mparameters,\n\u001b[0;32m    <a href='file:///c%3A/Users/ldronden/AppData/Local/pypoetry/Cache/virtualenvs/publieke-data-predictive-maintenance-6PaKd1Az-py3.9/lib/site-packages/sklearn/model_selection/_search.py?line=845'>846</a>\u001b[0m         split_progress\u001b[39m=\u001b[39;49m(split_idx, n_splits),\n\u001b[0;32m    <a href='file:///c%3A/Users/ldronden/AppData/Local/pypoetry/Cache/virtualenvs/publieke-data-predictive-maintenance-6PaKd1Az-py3.9/lib/site-packages/sklearn/model_selection/_search.py?line=846'>847</a>\u001b[0m         candidate_progress\u001b[39m=\u001b[39;49m(cand_idx, n_candidates),\n\u001b[0;32m    <a href='file:///c%3A/Users/ldronden/AppData/Local/pypoetry/Cache/virtualenvs/publieke-data-predictive-maintenance-6PaKd1Az-py3.9/lib/site-packages/sklearn/model_selection/_search.py?line=847'>848</a>\u001b[0m         \u001b[39m*\u001b[39;49m\u001b[39m*\u001b[39;49mfit_and_score_kwargs,\n\u001b[0;32m    <a href='file:///c%3A/Users/ldronden/AppData/Local/pypoetry/Cache/virtualenvs/publieke-data-predictive-maintenance-6PaKd1Az-py3.9/lib/site-packages/sklearn/model_selection/_search.py?line=848'>849</a>\u001b[0m     )\n\u001b[0;32m    <a href='file:///c%3A/Users/ldronden/AppData/Local/pypoetry/Cache/virtualenvs/publieke-data-predictive-maintenance-6PaKd1Az-py3.9/lib/site-packages/sklearn/model_selection/_search.py?line=849'>850</a>\u001b[0m     \u001b[39mfor\u001b[39;49;00m (cand_idx, parameters), (split_idx, (train, test)) \u001b[39min\u001b[39;49;00m product(\n\u001b[0;32m    <a href='file:///c%3A/Users/ldronden/AppData/Local/pypoetry/Cache/virtualenvs/publieke-data-predictive-maintenance-6PaKd1Az-py3.9/lib/site-packages/sklearn/model_selection/_search.py?line=850'>851</a>\u001b[0m         \u001b[39menumerate\u001b[39;49m(candidate_params), \u001b[39menumerate\u001b[39;49m(cv\u001b[39m.\u001b[39;49msplit(X, y, groups))\n\u001b[0;32m    <a href='file:///c%3A/Users/ldronden/AppData/Local/pypoetry/Cache/virtualenvs/publieke-data-predictive-maintenance-6PaKd1Az-py3.9/lib/site-packages/sklearn/model_selection/_search.py?line=851'>852</a>\u001b[0m     )\n\u001b[0;32m    <a href='file:///c%3A/Users/ldronden/AppData/Local/pypoetry/Cache/virtualenvs/publieke-data-predictive-maintenance-6PaKd1Az-py3.9/lib/site-packages/sklearn/model_selection/_search.py?line=852'>853</a>\u001b[0m )\n\u001b[0;32m    <a href='file:///c%3A/Users/ldronden/AppData/Local/pypoetry/Cache/virtualenvs/publieke-data-predictive-maintenance-6PaKd1Az-py3.9/lib/site-packages/sklearn/model_selection/_search.py?line=854'>855</a>\u001b[0m \u001b[39mif\u001b[39;00m \u001b[39mlen\u001b[39m(out) \u001b[39m<\u001b[39m \u001b[39m1\u001b[39m:\n\u001b[0;32m    <a href='file:///c%3A/Users/ldronden/AppData/Local/pypoetry/Cache/virtualenvs/publieke-data-predictive-maintenance-6PaKd1Az-py3.9/lib/site-packages/sklearn/model_selection/_search.py?line=855'>856</a>\u001b[0m     \u001b[39mraise\u001b[39;00m \u001b[39mValueError\u001b[39;00m(\n\u001b[0;32m    <a href='file:///c%3A/Users/ldronden/AppData/Local/pypoetry/Cache/virtualenvs/publieke-data-predictive-maintenance-6PaKd1Az-py3.9/lib/site-packages/sklearn/model_selection/_search.py?line=856'>857</a>\u001b[0m         \u001b[39m\"\u001b[39m\u001b[39mNo fits were performed. \u001b[39m\u001b[39m\"\u001b[39m\n\u001b[0;32m    <a href='file:///c%3A/Users/ldronden/AppData/Local/pypoetry/Cache/virtualenvs/publieke-data-predictive-maintenance-6PaKd1Az-py3.9/lib/site-packages/sklearn/model_selection/_search.py?line=857'>858</a>\u001b[0m         \u001b[39m\"\u001b[39m\u001b[39mWas the CV iterator empty? \u001b[39m\u001b[39m\"\u001b[39m\n\u001b[0;32m    <a href='file:///c%3A/Users/ldronden/AppData/Local/pypoetry/Cache/virtualenvs/publieke-data-predictive-maintenance-6PaKd1Az-py3.9/lib/site-packages/sklearn/model_selection/_search.py?line=858'>859</a>\u001b[0m         \u001b[39m\"\u001b[39m\u001b[39mWere there no candidates?\u001b[39m\u001b[39m\"\u001b[39m\n\u001b[0;32m    <a href='file:///c%3A/Users/ldronden/AppData/Local/pypoetry/Cache/virtualenvs/publieke-data-predictive-maintenance-6PaKd1Az-py3.9/lib/site-packages/sklearn/model_selection/_search.py?line=859'>860</a>\u001b[0m     )\n",
      "File \u001b[1;32mc:\\Users\\ldronden\\AppData\\Local\\pypoetry\\Cache\\virtualenvs\\publieke-data-predictive-maintenance-6PaKd1Az-py3.9\\lib\\site-packages\\joblib\\parallel.py:1046\u001b[0m, in \u001b[0;36mParallel.__call__\u001b[1;34m(self, iterable)\u001b[0m\n\u001b[0;32m   <a href='file:///c%3A/Users/ldronden/AppData/Local/pypoetry/Cache/virtualenvs/publieke-data-predictive-maintenance-6PaKd1Az-py3.9/lib/site-packages/joblib/parallel.py?line=1042'>1043</a>\u001b[0m \u001b[39mif\u001b[39;00m \u001b[39mself\u001b[39m\u001b[39m.\u001b[39mdispatch_one_batch(iterator):\n\u001b[0;32m   <a href='file:///c%3A/Users/ldronden/AppData/Local/pypoetry/Cache/virtualenvs/publieke-data-predictive-maintenance-6PaKd1Az-py3.9/lib/site-packages/joblib/parallel.py?line=1043'>1044</a>\u001b[0m     \u001b[39mself\u001b[39m\u001b[39m.\u001b[39m_iterating \u001b[39m=\u001b[39m \u001b[39mself\u001b[39m\u001b[39m.\u001b[39m_original_iterator \u001b[39mis\u001b[39;00m \u001b[39mnot\u001b[39;00m \u001b[39mNone\u001b[39;00m\n\u001b[1;32m-> <a href='file:///c%3A/Users/ldronden/AppData/Local/pypoetry/Cache/virtualenvs/publieke-data-predictive-maintenance-6PaKd1Az-py3.9/lib/site-packages/joblib/parallel.py?line=1045'>1046</a>\u001b[0m \u001b[39mwhile\u001b[39;00m \u001b[39mself\u001b[39;49m\u001b[39m.\u001b[39;49mdispatch_one_batch(iterator):\n\u001b[0;32m   <a href='file:///c%3A/Users/ldronden/AppData/Local/pypoetry/Cache/virtualenvs/publieke-data-predictive-maintenance-6PaKd1Az-py3.9/lib/site-packages/joblib/parallel.py?line=1046'>1047</a>\u001b[0m     \u001b[39mpass\u001b[39;00m\n\u001b[0;32m   <a href='file:///c%3A/Users/ldronden/AppData/Local/pypoetry/Cache/virtualenvs/publieke-data-predictive-maintenance-6PaKd1Az-py3.9/lib/site-packages/joblib/parallel.py?line=1048'>1049</a>\u001b[0m \u001b[39mif\u001b[39;00m pre_dispatch \u001b[39m==\u001b[39m \u001b[39m\"\u001b[39m\u001b[39mall\u001b[39m\u001b[39m\"\u001b[39m \u001b[39mor\u001b[39;00m n_jobs \u001b[39m==\u001b[39m \u001b[39m1\u001b[39m:\n\u001b[0;32m   <a href='file:///c%3A/Users/ldronden/AppData/Local/pypoetry/Cache/virtualenvs/publieke-data-predictive-maintenance-6PaKd1Az-py3.9/lib/site-packages/joblib/parallel.py?line=1049'>1050</a>\u001b[0m     \u001b[39m# The iterable was consumed all at once by the above for loop.\u001b[39;00m\n\u001b[0;32m   <a href='file:///c%3A/Users/ldronden/AppData/Local/pypoetry/Cache/virtualenvs/publieke-data-predictive-maintenance-6PaKd1Az-py3.9/lib/site-packages/joblib/parallel.py?line=1050'>1051</a>\u001b[0m     \u001b[39m# No need to wait for async callbacks to trigger to\u001b[39;00m\n\u001b[0;32m   <a href='file:///c%3A/Users/ldronden/AppData/Local/pypoetry/Cache/virtualenvs/publieke-data-predictive-maintenance-6PaKd1Az-py3.9/lib/site-packages/joblib/parallel.py?line=1051'>1052</a>\u001b[0m     \u001b[39m# consumption.\u001b[39;00m\n",
      "File \u001b[1;32mc:\\Users\\ldronden\\AppData\\Local\\pypoetry\\Cache\\virtualenvs\\publieke-data-predictive-maintenance-6PaKd1Az-py3.9\\lib\\site-packages\\joblib\\parallel.py:861\u001b[0m, in \u001b[0;36mParallel.dispatch_one_batch\u001b[1;34m(self, iterator)\u001b[0m\n\u001b[0;32m    <a href='file:///c%3A/Users/ldronden/AppData/Local/pypoetry/Cache/virtualenvs/publieke-data-predictive-maintenance-6PaKd1Az-py3.9/lib/site-packages/joblib/parallel.py?line=858'>859</a>\u001b[0m     \u001b[39mreturn\u001b[39;00m \u001b[39mFalse\u001b[39;00m\n\u001b[0;32m    <a href='file:///c%3A/Users/ldronden/AppData/Local/pypoetry/Cache/virtualenvs/publieke-data-predictive-maintenance-6PaKd1Az-py3.9/lib/site-packages/joblib/parallel.py?line=859'>860</a>\u001b[0m \u001b[39melse\u001b[39;00m:\n\u001b[1;32m--> <a href='file:///c%3A/Users/ldronden/AppData/Local/pypoetry/Cache/virtualenvs/publieke-data-predictive-maintenance-6PaKd1Az-py3.9/lib/site-packages/joblib/parallel.py?line=860'>861</a>\u001b[0m     \u001b[39mself\u001b[39;49m\u001b[39m.\u001b[39;49m_dispatch(tasks)\n\u001b[0;32m    <a href='file:///c%3A/Users/ldronden/AppData/Local/pypoetry/Cache/virtualenvs/publieke-data-predictive-maintenance-6PaKd1Az-py3.9/lib/site-packages/joblib/parallel.py?line=861'>862</a>\u001b[0m     \u001b[39mreturn\u001b[39;00m \u001b[39mTrue\u001b[39;00m\n",
      "File \u001b[1;32mc:\\Users\\ldronden\\AppData\\Local\\pypoetry\\Cache\\virtualenvs\\publieke-data-predictive-maintenance-6PaKd1Az-py3.9\\lib\\site-packages\\joblib\\parallel.py:779\u001b[0m, in \u001b[0;36mParallel._dispatch\u001b[1;34m(self, batch)\u001b[0m\n\u001b[0;32m    <a href='file:///c%3A/Users/ldronden/AppData/Local/pypoetry/Cache/virtualenvs/publieke-data-predictive-maintenance-6PaKd1Az-py3.9/lib/site-packages/joblib/parallel.py?line=776'>777</a>\u001b[0m \u001b[39mwith\u001b[39;00m \u001b[39mself\u001b[39m\u001b[39m.\u001b[39m_lock:\n\u001b[0;32m    <a href='file:///c%3A/Users/ldronden/AppData/Local/pypoetry/Cache/virtualenvs/publieke-data-predictive-maintenance-6PaKd1Az-py3.9/lib/site-packages/joblib/parallel.py?line=777'>778</a>\u001b[0m     job_idx \u001b[39m=\u001b[39m \u001b[39mlen\u001b[39m(\u001b[39mself\u001b[39m\u001b[39m.\u001b[39m_jobs)\n\u001b[1;32m--> <a href='file:///c%3A/Users/ldronden/AppData/Local/pypoetry/Cache/virtualenvs/publieke-data-predictive-maintenance-6PaKd1Az-py3.9/lib/site-packages/joblib/parallel.py?line=778'>779</a>\u001b[0m     job \u001b[39m=\u001b[39m \u001b[39mself\u001b[39;49m\u001b[39m.\u001b[39;49m_backend\u001b[39m.\u001b[39;49mapply_async(batch, callback\u001b[39m=\u001b[39;49mcb)\n\u001b[0;32m    <a href='file:///c%3A/Users/ldronden/AppData/Local/pypoetry/Cache/virtualenvs/publieke-data-predictive-maintenance-6PaKd1Az-py3.9/lib/site-packages/joblib/parallel.py?line=779'>780</a>\u001b[0m     \u001b[39m# A job can complete so quickly than its callback is\u001b[39;00m\n\u001b[0;32m    <a href='file:///c%3A/Users/ldronden/AppData/Local/pypoetry/Cache/virtualenvs/publieke-data-predictive-maintenance-6PaKd1Az-py3.9/lib/site-packages/joblib/parallel.py?line=780'>781</a>\u001b[0m     \u001b[39m# called before we get here, causing self._jobs to\u001b[39;00m\n\u001b[0;32m    <a href='file:///c%3A/Users/ldronden/AppData/Local/pypoetry/Cache/virtualenvs/publieke-data-predictive-maintenance-6PaKd1Az-py3.9/lib/site-packages/joblib/parallel.py?line=781'>782</a>\u001b[0m     \u001b[39m# grow. To ensure correct results ordering, .insert is\u001b[39;00m\n\u001b[0;32m    <a href='file:///c%3A/Users/ldronden/AppData/Local/pypoetry/Cache/virtualenvs/publieke-data-predictive-maintenance-6PaKd1Az-py3.9/lib/site-packages/joblib/parallel.py?line=782'>783</a>\u001b[0m     \u001b[39m# used (rather than .append) in the following line\u001b[39;00m\n\u001b[0;32m    <a href='file:///c%3A/Users/ldronden/AppData/Local/pypoetry/Cache/virtualenvs/publieke-data-predictive-maintenance-6PaKd1Az-py3.9/lib/site-packages/joblib/parallel.py?line=783'>784</a>\u001b[0m     \u001b[39mself\u001b[39m\u001b[39m.\u001b[39m_jobs\u001b[39m.\u001b[39minsert(job_idx, job)\n",
      "File \u001b[1;32mc:\\Users\\ldronden\\AppData\\Local\\pypoetry\\Cache\\virtualenvs\\publieke-data-predictive-maintenance-6PaKd1Az-py3.9\\lib\\site-packages\\joblib\\_parallel_backends.py:208\u001b[0m, in \u001b[0;36mSequentialBackend.apply_async\u001b[1;34m(self, func, callback)\u001b[0m\n\u001b[0;32m    <a href='file:///c%3A/Users/ldronden/AppData/Local/pypoetry/Cache/virtualenvs/publieke-data-predictive-maintenance-6PaKd1Az-py3.9/lib/site-packages/joblib/_parallel_backends.py?line=205'>206</a>\u001b[0m \u001b[39mdef\u001b[39;00m \u001b[39mapply_async\u001b[39m(\u001b[39mself\u001b[39m, func, callback\u001b[39m=\u001b[39m\u001b[39mNone\u001b[39;00m):\n\u001b[0;32m    <a href='file:///c%3A/Users/ldronden/AppData/Local/pypoetry/Cache/virtualenvs/publieke-data-predictive-maintenance-6PaKd1Az-py3.9/lib/site-packages/joblib/_parallel_backends.py?line=206'>207</a>\u001b[0m     \u001b[39m\"\"\"Schedule a func to be run\"\"\"\u001b[39;00m\n\u001b[1;32m--> <a href='file:///c%3A/Users/ldronden/AppData/Local/pypoetry/Cache/virtualenvs/publieke-data-predictive-maintenance-6PaKd1Az-py3.9/lib/site-packages/joblib/_parallel_backends.py?line=207'>208</a>\u001b[0m     result \u001b[39m=\u001b[39m ImmediateResult(func)\n\u001b[0;32m    <a href='file:///c%3A/Users/ldronden/AppData/Local/pypoetry/Cache/virtualenvs/publieke-data-predictive-maintenance-6PaKd1Az-py3.9/lib/site-packages/joblib/_parallel_backends.py?line=208'>209</a>\u001b[0m     \u001b[39mif\u001b[39;00m callback:\n\u001b[0;32m    <a href='file:///c%3A/Users/ldronden/AppData/Local/pypoetry/Cache/virtualenvs/publieke-data-predictive-maintenance-6PaKd1Az-py3.9/lib/site-packages/joblib/_parallel_backends.py?line=209'>210</a>\u001b[0m         callback(result)\n",
      "File \u001b[1;32mc:\\Users\\ldronden\\AppData\\Local\\pypoetry\\Cache\\virtualenvs\\publieke-data-predictive-maintenance-6PaKd1Az-py3.9\\lib\\site-packages\\joblib\\_parallel_backends.py:572\u001b[0m, in \u001b[0;36mImmediateResult.__init__\u001b[1;34m(self, batch)\u001b[0m\n\u001b[0;32m    <a href='file:///c%3A/Users/ldronden/AppData/Local/pypoetry/Cache/virtualenvs/publieke-data-predictive-maintenance-6PaKd1Az-py3.9/lib/site-packages/joblib/_parallel_backends.py?line=568'>569</a>\u001b[0m \u001b[39mdef\u001b[39;00m \u001b[39m__init__\u001b[39m(\u001b[39mself\u001b[39m, batch):\n\u001b[0;32m    <a href='file:///c%3A/Users/ldronden/AppData/Local/pypoetry/Cache/virtualenvs/publieke-data-predictive-maintenance-6PaKd1Az-py3.9/lib/site-packages/joblib/_parallel_backends.py?line=569'>570</a>\u001b[0m     \u001b[39m# Don't delay the application, to avoid keeping the input\u001b[39;00m\n\u001b[0;32m    <a href='file:///c%3A/Users/ldronden/AppData/Local/pypoetry/Cache/virtualenvs/publieke-data-predictive-maintenance-6PaKd1Az-py3.9/lib/site-packages/joblib/_parallel_backends.py?line=570'>571</a>\u001b[0m     \u001b[39m# arguments in memory\u001b[39;00m\n\u001b[1;32m--> <a href='file:///c%3A/Users/ldronden/AppData/Local/pypoetry/Cache/virtualenvs/publieke-data-predictive-maintenance-6PaKd1Az-py3.9/lib/site-packages/joblib/_parallel_backends.py?line=571'>572</a>\u001b[0m     \u001b[39mself\u001b[39m\u001b[39m.\u001b[39mresults \u001b[39m=\u001b[39m batch()\n",
      "File \u001b[1;32mc:\\Users\\ldronden\\AppData\\Local\\pypoetry\\Cache\\virtualenvs\\publieke-data-predictive-maintenance-6PaKd1Az-py3.9\\lib\\site-packages\\joblib\\parallel.py:262\u001b[0m, in \u001b[0;36mBatchedCalls.__call__\u001b[1;34m(self)\u001b[0m\n\u001b[0;32m    <a href='file:///c%3A/Users/ldronden/AppData/Local/pypoetry/Cache/virtualenvs/publieke-data-predictive-maintenance-6PaKd1Az-py3.9/lib/site-packages/joblib/parallel.py?line=257'>258</a>\u001b[0m \u001b[39mdef\u001b[39;00m \u001b[39m__call__\u001b[39m(\u001b[39mself\u001b[39m):\n\u001b[0;32m    <a href='file:///c%3A/Users/ldronden/AppData/Local/pypoetry/Cache/virtualenvs/publieke-data-predictive-maintenance-6PaKd1Az-py3.9/lib/site-packages/joblib/parallel.py?line=258'>259</a>\u001b[0m     \u001b[39m# Set the default nested backend to self._backend but do not set the\u001b[39;00m\n\u001b[0;32m    <a href='file:///c%3A/Users/ldronden/AppData/Local/pypoetry/Cache/virtualenvs/publieke-data-predictive-maintenance-6PaKd1Az-py3.9/lib/site-packages/joblib/parallel.py?line=259'>260</a>\u001b[0m     \u001b[39m# change the default number of processes to -1\u001b[39;00m\n\u001b[0;32m    <a href='file:///c%3A/Users/ldronden/AppData/Local/pypoetry/Cache/virtualenvs/publieke-data-predictive-maintenance-6PaKd1Az-py3.9/lib/site-packages/joblib/parallel.py?line=260'>261</a>\u001b[0m     \u001b[39mwith\u001b[39;00m parallel_backend(\u001b[39mself\u001b[39m\u001b[39m.\u001b[39m_backend, n_jobs\u001b[39m=\u001b[39m\u001b[39mself\u001b[39m\u001b[39m.\u001b[39m_n_jobs):\n\u001b[1;32m--> <a href='file:///c%3A/Users/ldronden/AppData/Local/pypoetry/Cache/virtualenvs/publieke-data-predictive-maintenance-6PaKd1Az-py3.9/lib/site-packages/joblib/parallel.py?line=261'>262</a>\u001b[0m         \u001b[39mreturn\u001b[39;00m [func(\u001b[39m*\u001b[39margs, \u001b[39m*\u001b[39m\u001b[39m*\u001b[39mkwargs)\n\u001b[0;32m    <a href='file:///c%3A/Users/ldronden/AppData/Local/pypoetry/Cache/virtualenvs/publieke-data-predictive-maintenance-6PaKd1Az-py3.9/lib/site-packages/joblib/parallel.py?line=262'>263</a>\u001b[0m                 \u001b[39mfor\u001b[39;00m func, args, kwargs \u001b[39min\u001b[39;00m \u001b[39mself\u001b[39m\u001b[39m.\u001b[39mitems]\n",
      "File \u001b[1;32mc:\\Users\\ldronden\\AppData\\Local\\pypoetry\\Cache\\virtualenvs\\publieke-data-predictive-maintenance-6PaKd1Az-py3.9\\lib\\site-packages\\joblib\\parallel.py:262\u001b[0m, in \u001b[0;36m<listcomp>\u001b[1;34m(.0)\u001b[0m\n\u001b[0;32m    <a href='file:///c%3A/Users/ldronden/AppData/Local/pypoetry/Cache/virtualenvs/publieke-data-predictive-maintenance-6PaKd1Az-py3.9/lib/site-packages/joblib/parallel.py?line=257'>258</a>\u001b[0m \u001b[39mdef\u001b[39;00m \u001b[39m__call__\u001b[39m(\u001b[39mself\u001b[39m):\n\u001b[0;32m    <a href='file:///c%3A/Users/ldronden/AppData/Local/pypoetry/Cache/virtualenvs/publieke-data-predictive-maintenance-6PaKd1Az-py3.9/lib/site-packages/joblib/parallel.py?line=258'>259</a>\u001b[0m     \u001b[39m# Set the default nested backend to self._backend but do not set the\u001b[39;00m\n\u001b[0;32m    <a href='file:///c%3A/Users/ldronden/AppData/Local/pypoetry/Cache/virtualenvs/publieke-data-predictive-maintenance-6PaKd1Az-py3.9/lib/site-packages/joblib/parallel.py?line=259'>260</a>\u001b[0m     \u001b[39m# change the default number of processes to -1\u001b[39;00m\n\u001b[0;32m    <a href='file:///c%3A/Users/ldronden/AppData/Local/pypoetry/Cache/virtualenvs/publieke-data-predictive-maintenance-6PaKd1Az-py3.9/lib/site-packages/joblib/parallel.py?line=260'>261</a>\u001b[0m     \u001b[39mwith\u001b[39;00m parallel_backend(\u001b[39mself\u001b[39m\u001b[39m.\u001b[39m_backend, n_jobs\u001b[39m=\u001b[39m\u001b[39mself\u001b[39m\u001b[39m.\u001b[39m_n_jobs):\n\u001b[1;32m--> <a href='file:///c%3A/Users/ldronden/AppData/Local/pypoetry/Cache/virtualenvs/publieke-data-predictive-maintenance-6PaKd1Az-py3.9/lib/site-packages/joblib/parallel.py?line=261'>262</a>\u001b[0m         \u001b[39mreturn\u001b[39;00m [func(\u001b[39m*\u001b[39margs, \u001b[39m*\u001b[39m\u001b[39m*\u001b[39mkwargs)\n\u001b[0;32m    <a href='file:///c%3A/Users/ldronden/AppData/Local/pypoetry/Cache/virtualenvs/publieke-data-predictive-maintenance-6PaKd1Az-py3.9/lib/site-packages/joblib/parallel.py?line=262'>263</a>\u001b[0m                 \u001b[39mfor\u001b[39;00m func, args, kwargs \u001b[39min\u001b[39;00m \u001b[39mself\u001b[39m\u001b[39m.\u001b[39mitems]\n",
      "File \u001b[1;32mc:\\Users\\ldronden\\AppData\\Local\\pypoetry\\Cache\\virtualenvs\\publieke-data-predictive-maintenance-6PaKd1Az-py3.9\\lib\\site-packages\\sklearn\\utils\\fixes.py:216\u001b[0m, in \u001b[0;36m_FuncWrapper.__call__\u001b[1;34m(self, *args, **kwargs)\u001b[0m\n\u001b[0;32m    <a href='file:///c%3A/Users/ldronden/AppData/Local/pypoetry/Cache/virtualenvs/publieke-data-predictive-maintenance-6PaKd1Az-py3.9/lib/site-packages/sklearn/utils/fixes.py?line=213'>214</a>\u001b[0m \u001b[39mdef\u001b[39;00m \u001b[39m__call__\u001b[39m(\u001b[39mself\u001b[39m, \u001b[39m*\u001b[39margs, \u001b[39m*\u001b[39m\u001b[39m*\u001b[39mkwargs):\n\u001b[0;32m    <a href='file:///c%3A/Users/ldronden/AppData/Local/pypoetry/Cache/virtualenvs/publieke-data-predictive-maintenance-6PaKd1Az-py3.9/lib/site-packages/sklearn/utils/fixes.py?line=214'>215</a>\u001b[0m     \u001b[39mwith\u001b[39;00m config_context(\u001b[39m*\u001b[39m\u001b[39m*\u001b[39m\u001b[39mself\u001b[39m\u001b[39m.\u001b[39mconfig):\n\u001b[1;32m--> <a href='file:///c%3A/Users/ldronden/AppData/Local/pypoetry/Cache/virtualenvs/publieke-data-predictive-maintenance-6PaKd1Az-py3.9/lib/site-packages/sklearn/utils/fixes.py?line=215'>216</a>\u001b[0m         \u001b[39mreturn\u001b[39;00m \u001b[39mself\u001b[39m\u001b[39m.\u001b[39mfunction(\u001b[39m*\u001b[39margs, \u001b[39m*\u001b[39m\u001b[39m*\u001b[39mkwargs)\n",
      "File \u001b[1;32mc:\\Users\\ldronden\\AppData\\Local\\pypoetry\\Cache\\virtualenvs\\publieke-data-predictive-maintenance-6PaKd1Az-py3.9\\lib\\site-packages\\sklearn\\model_selection\\_validation.py:680\u001b[0m, in \u001b[0;36m_fit_and_score\u001b[1;34m(estimator, X, y, scorer, train, test, verbose, parameters, fit_params, return_train_score, return_parameters, return_n_test_samples, return_times, return_estimator, split_progress, candidate_progress, error_score)\u001b[0m\n\u001b[0;32m    <a href='file:///c%3A/Users/ldronden/AppData/Local/pypoetry/Cache/virtualenvs/publieke-data-predictive-maintenance-6PaKd1Az-py3.9/lib/site-packages/sklearn/model_selection/_validation.py?line=677'>678</a>\u001b[0m         estimator\u001b[39m.\u001b[39mfit(X_train, \u001b[39m*\u001b[39m\u001b[39m*\u001b[39mfit_params)\n\u001b[0;32m    <a href='file:///c%3A/Users/ldronden/AppData/Local/pypoetry/Cache/virtualenvs/publieke-data-predictive-maintenance-6PaKd1Az-py3.9/lib/site-packages/sklearn/model_selection/_validation.py?line=678'>679</a>\u001b[0m     \u001b[39melse\u001b[39;00m:\n\u001b[1;32m--> <a href='file:///c%3A/Users/ldronden/AppData/Local/pypoetry/Cache/virtualenvs/publieke-data-predictive-maintenance-6PaKd1Az-py3.9/lib/site-packages/sklearn/model_selection/_validation.py?line=679'>680</a>\u001b[0m         estimator\u001b[39m.\u001b[39mfit(X_train, y_train, \u001b[39m*\u001b[39m\u001b[39m*\u001b[39mfit_params)\n\u001b[0;32m    <a href='file:///c%3A/Users/ldronden/AppData/Local/pypoetry/Cache/virtualenvs/publieke-data-predictive-maintenance-6PaKd1Az-py3.9/lib/site-packages/sklearn/model_selection/_validation.py?line=681'>682</a>\u001b[0m \u001b[39mexcept\u001b[39;00m \u001b[39mException\u001b[39;00m:\n\u001b[0;32m    <a href='file:///c%3A/Users/ldronden/AppData/Local/pypoetry/Cache/virtualenvs/publieke-data-predictive-maintenance-6PaKd1Az-py3.9/lib/site-packages/sklearn/model_selection/_validation.py?line=682'>683</a>\u001b[0m     \u001b[39m# Note fit time as time until error\u001b[39;00m\n\u001b[0;32m    <a href='file:///c%3A/Users/ldronden/AppData/Local/pypoetry/Cache/virtualenvs/publieke-data-predictive-maintenance-6PaKd1Az-py3.9/lib/site-packages/sklearn/model_selection/_validation.py?line=683'>684</a>\u001b[0m     fit_time \u001b[39m=\u001b[39m time\u001b[39m.\u001b[39mtime() \u001b[39m-\u001b[39m start_time\n",
      "File \u001b[1;32mc:\\Users\\ldronden\\AppData\\Local\\pypoetry\\Cache\\virtualenvs\\publieke-data-predictive-maintenance-6PaKd1Az-py3.9\\lib\\site-packages\\keras\\wrappers\\scikit_learn.py:164\u001b[0m, in \u001b[0;36mBaseWrapper.fit\u001b[1;34m(self, x, y, **kwargs)\u001b[0m\n\u001b[0;32m    <a href='file:///c%3A/Users/ldronden/AppData/Local/pypoetry/Cache/virtualenvs/publieke-data-predictive-maintenance-6PaKd1Az-py3.9/lib/site-packages/keras/wrappers/scikit_learn.py?line=160'>161</a>\u001b[0m fit_args \u001b[39m=\u001b[39m copy\u001b[39m.\u001b[39mdeepcopy(\u001b[39mself\u001b[39m\u001b[39m.\u001b[39mfilter_sk_params(Sequential\u001b[39m.\u001b[39mfit))\n\u001b[0;32m    <a href='file:///c%3A/Users/ldronden/AppData/Local/pypoetry/Cache/virtualenvs/publieke-data-predictive-maintenance-6PaKd1Az-py3.9/lib/site-packages/keras/wrappers/scikit_learn.py?line=161'>162</a>\u001b[0m fit_args\u001b[39m.\u001b[39mupdate(kwargs)\n\u001b[1;32m--> <a href='file:///c%3A/Users/ldronden/AppData/Local/pypoetry/Cache/virtualenvs/publieke-data-predictive-maintenance-6PaKd1Az-py3.9/lib/site-packages/keras/wrappers/scikit_learn.py?line=163'>164</a>\u001b[0m history \u001b[39m=\u001b[39m \u001b[39mself\u001b[39m\u001b[39m.\u001b[39mmodel\u001b[39m.\u001b[39mfit(x, y, \u001b[39m*\u001b[39m\u001b[39m*\u001b[39mfit_args)\n\u001b[0;32m    <a href='file:///c%3A/Users/ldronden/AppData/Local/pypoetry/Cache/virtualenvs/publieke-data-predictive-maintenance-6PaKd1Az-py3.9/lib/site-packages/keras/wrappers/scikit_learn.py?line=165'>166</a>\u001b[0m \u001b[39mreturn\u001b[39;00m history\n",
      "File \u001b[1;32mc:\\Users\\ldronden\\AppData\\Local\\pypoetry\\Cache\\virtualenvs\\publieke-data-predictive-maintenance-6PaKd1Az-py3.9\\lib\\site-packages\\keras\\utils\\traceback_utils.py:64\u001b[0m, in \u001b[0;36mfilter_traceback.<locals>.error_handler\u001b[1;34m(*args, **kwargs)\u001b[0m\n\u001b[0;32m     <a href='file:///c%3A/Users/ldronden/AppData/Local/pypoetry/Cache/virtualenvs/publieke-data-predictive-maintenance-6PaKd1Az-py3.9/lib/site-packages/keras/utils/traceback_utils.py?line=61'>62</a>\u001b[0m filtered_tb \u001b[39m=\u001b[39m \u001b[39mNone\u001b[39;00m\n\u001b[0;32m     <a href='file:///c%3A/Users/ldronden/AppData/Local/pypoetry/Cache/virtualenvs/publieke-data-predictive-maintenance-6PaKd1Az-py3.9/lib/site-packages/keras/utils/traceback_utils.py?line=62'>63</a>\u001b[0m \u001b[39mtry\u001b[39;00m:\n\u001b[1;32m---> <a href='file:///c%3A/Users/ldronden/AppData/Local/pypoetry/Cache/virtualenvs/publieke-data-predictive-maintenance-6PaKd1Az-py3.9/lib/site-packages/keras/utils/traceback_utils.py?line=63'>64</a>\u001b[0m   \u001b[39mreturn\u001b[39;00m fn(\u001b[39m*\u001b[39margs, \u001b[39m*\u001b[39m\u001b[39m*\u001b[39mkwargs)\n\u001b[0;32m     <a href='file:///c%3A/Users/ldronden/AppData/Local/pypoetry/Cache/virtualenvs/publieke-data-predictive-maintenance-6PaKd1Az-py3.9/lib/site-packages/keras/utils/traceback_utils.py?line=64'>65</a>\u001b[0m \u001b[39mexcept\u001b[39;00m \u001b[39mException\u001b[39;00m \u001b[39mas\u001b[39;00m e:  \u001b[39m# pylint: disable=broad-except\u001b[39;00m\n\u001b[0;32m     <a href='file:///c%3A/Users/ldronden/AppData/Local/pypoetry/Cache/virtualenvs/publieke-data-predictive-maintenance-6PaKd1Az-py3.9/lib/site-packages/keras/utils/traceback_utils.py?line=65'>66</a>\u001b[0m   filtered_tb \u001b[39m=\u001b[39m _process_traceback_frames(e\u001b[39m.\u001b[39m__traceback__)\n",
      "File \u001b[1;32mc:\\Users\\ldronden\\AppData\\Local\\pypoetry\\Cache\\virtualenvs\\publieke-data-predictive-maintenance-6PaKd1Az-py3.9\\lib\\site-packages\\keras\\engine\\training.py:1384\u001b[0m, in \u001b[0;36mModel.fit\u001b[1;34m(self, x, y, batch_size, epochs, verbose, callbacks, validation_split, validation_data, shuffle, class_weight, sample_weight, initial_epoch, steps_per_epoch, validation_steps, validation_batch_size, validation_freq, max_queue_size, workers, use_multiprocessing)\u001b[0m\n\u001b[0;32m   <a href='file:///c%3A/Users/ldronden/AppData/Local/pypoetry/Cache/virtualenvs/publieke-data-predictive-maintenance-6PaKd1Az-py3.9/lib/site-packages/keras/engine/training.py?line=1376'>1377</a>\u001b[0m \u001b[39mwith\u001b[39;00m tf\u001b[39m.\u001b[39mprofiler\u001b[39m.\u001b[39mexperimental\u001b[39m.\u001b[39mTrace(\n\u001b[0;32m   <a href='file:///c%3A/Users/ldronden/AppData/Local/pypoetry/Cache/virtualenvs/publieke-data-predictive-maintenance-6PaKd1Az-py3.9/lib/site-packages/keras/engine/training.py?line=1377'>1378</a>\u001b[0m     \u001b[39m'\u001b[39m\u001b[39mtrain\u001b[39m\u001b[39m'\u001b[39m,\n\u001b[0;32m   <a href='file:///c%3A/Users/ldronden/AppData/Local/pypoetry/Cache/virtualenvs/publieke-data-predictive-maintenance-6PaKd1Az-py3.9/lib/site-packages/keras/engine/training.py?line=1378'>1379</a>\u001b[0m     epoch_num\u001b[39m=\u001b[39mepoch,\n\u001b[0;32m   <a href='file:///c%3A/Users/ldronden/AppData/Local/pypoetry/Cache/virtualenvs/publieke-data-predictive-maintenance-6PaKd1Az-py3.9/lib/site-packages/keras/engine/training.py?line=1379'>1380</a>\u001b[0m     step_num\u001b[39m=\u001b[39mstep,\n\u001b[0;32m   <a href='file:///c%3A/Users/ldronden/AppData/Local/pypoetry/Cache/virtualenvs/publieke-data-predictive-maintenance-6PaKd1Az-py3.9/lib/site-packages/keras/engine/training.py?line=1380'>1381</a>\u001b[0m     batch_size\u001b[39m=\u001b[39mbatch_size,\n\u001b[0;32m   <a href='file:///c%3A/Users/ldronden/AppData/Local/pypoetry/Cache/virtualenvs/publieke-data-predictive-maintenance-6PaKd1Az-py3.9/lib/site-packages/keras/engine/training.py?line=1381'>1382</a>\u001b[0m     _r\u001b[39m=\u001b[39m\u001b[39m1\u001b[39m):\n\u001b[0;32m   <a href='file:///c%3A/Users/ldronden/AppData/Local/pypoetry/Cache/virtualenvs/publieke-data-predictive-maintenance-6PaKd1Az-py3.9/lib/site-packages/keras/engine/training.py?line=1382'>1383</a>\u001b[0m   callbacks\u001b[39m.\u001b[39mon_train_batch_begin(step)\n\u001b[1;32m-> <a href='file:///c%3A/Users/ldronden/AppData/Local/pypoetry/Cache/virtualenvs/publieke-data-predictive-maintenance-6PaKd1Az-py3.9/lib/site-packages/keras/engine/training.py?line=1383'>1384</a>\u001b[0m   tmp_logs \u001b[39m=\u001b[39m \u001b[39mself\u001b[39;49m\u001b[39m.\u001b[39;49mtrain_function(iterator)\n\u001b[0;32m   <a href='file:///c%3A/Users/ldronden/AppData/Local/pypoetry/Cache/virtualenvs/publieke-data-predictive-maintenance-6PaKd1Az-py3.9/lib/site-packages/keras/engine/training.py?line=1384'>1385</a>\u001b[0m   \u001b[39mif\u001b[39;00m data_handler\u001b[39m.\u001b[39mshould_sync:\n\u001b[0;32m   <a href='file:///c%3A/Users/ldronden/AppData/Local/pypoetry/Cache/virtualenvs/publieke-data-predictive-maintenance-6PaKd1Az-py3.9/lib/site-packages/keras/engine/training.py?line=1385'>1386</a>\u001b[0m     context\u001b[39m.\u001b[39masync_wait()\n",
      "File \u001b[1;32mc:\\Users\\ldronden\\AppData\\Local\\pypoetry\\Cache\\virtualenvs\\publieke-data-predictive-maintenance-6PaKd1Az-py3.9\\lib\\site-packages\\tensorflow\\python\\util\\traceback_utils.py:150\u001b[0m, in \u001b[0;36mfilter_traceback.<locals>.error_handler\u001b[1;34m(*args, **kwargs)\u001b[0m\n\u001b[0;32m    <a href='file:///c%3A/Users/ldronden/AppData/Local/pypoetry/Cache/virtualenvs/publieke-data-predictive-maintenance-6PaKd1Az-py3.9/lib/site-packages/tensorflow/python/util/traceback_utils.py?line=147'>148</a>\u001b[0m filtered_tb \u001b[39m=\u001b[39m \u001b[39mNone\u001b[39;00m\n\u001b[0;32m    <a href='file:///c%3A/Users/ldronden/AppData/Local/pypoetry/Cache/virtualenvs/publieke-data-predictive-maintenance-6PaKd1Az-py3.9/lib/site-packages/tensorflow/python/util/traceback_utils.py?line=148'>149</a>\u001b[0m \u001b[39mtry\u001b[39;00m:\n\u001b[1;32m--> <a href='file:///c%3A/Users/ldronden/AppData/Local/pypoetry/Cache/virtualenvs/publieke-data-predictive-maintenance-6PaKd1Az-py3.9/lib/site-packages/tensorflow/python/util/traceback_utils.py?line=149'>150</a>\u001b[0m   \u001b[39mreturn\u001b[39;00m fn(\u001b[39m*\u001b[39margs, \u001b[39m*\u001b[39m\u001b[39m*\u001b[39mkwargs)\n\u001b[0;32m    <a href='file:///c%3A/Users/ldronden/AppData/Local/pypoetry/Cache/virtualenvs/publieke-data-predictive-maintenance-6PaKd1Az-py3.9/lib/site-packages/tensorflow/python/util/traceback_utils.py?line=150'>151</a>\u001b[0m \u001b[39mexcept\u001b[39;00m \u001b[39mException\u001b[39;00m \u001b[39mas\u001b[39;00m e:\n\u001b[0;32m    <a href='file:///c%3A/Users/ldronden/AppData/Local/pypoetry/Cache/virtualenvs/publieke-data-predictive-maintenance-6PaKd1Az-py3.9/lib/site-packages/tensorflow/python/util/traceback_utils.py?line=151'>152</a>\u001b[0m   filtered_tb \u001b[39m=\u001b[39m _process_traceback_frames(e\u001b[39m.\u001b[39m__traceback__)\n",
      "File \u001b[1;32mc:\\Users\\ldronden\\AppData\\Local\\pypoetry\\Cache\\virtualenvs\\publieke-data-predictive-maintenance-6PaKd1Az-py3.9\\lib\\site-packages\\tensorflow\\python\\eager\\def_function.py:915\u001b[0m, in \u001b[0;36mFunction.__call__\u001b[1;34m(self, *args, **kwds)\u001b[0m\n\u001b[0;32m    <a href='file:///c%3A/Users/ldronden/AppData/Local/pypoetry/Cache/virtualenvs/publieke-data-predictive-maintenance-6PaKd1Az-py3.9/lib/site-packages/tensorflow/python/eager/def_function.py?line=911'>912</a>\u001b[0m compiler \u001b[39m=\u001b[39m \u001b[39m\"\u001b[39m\u001b[39mxla\u001b[39m\u001b[39m\"\u001b[39m \u001b[39mif\u001b[39;00m \u001b[39mself\u001b[39m\u001b[39m.\u001b[39m_jit_compile \u001b[39melse\u001b[39;00m \u001b[39m\"\u001b[39m\u001b[39mnonXla\u001b[39m\u001b[39m\"\u001b[39m\n\u001b[0;32m    <a href='file:///c%3A/Users/ldronden/AppData/Local/pypoetry/Cache/virtualenvs/publieke-data-predictive-maintenance-6PaKd1Az-py3.9/lib/site-packages/tensorflow/python/eager/def_function.py?line=913'>914</a>\u001b[0m \u001b[39mwith\u001b[39;00m OptionalXlaContext(\u001b[39mself\u001b[39m\u001b[39m.\u001b[39m_jit_compile):\n\u001b[1;32m--> <a href='file:///c%3A/Users/ldronden/AppData/Local/pypoetry/Cache/virtualenvs/publieke-data-predictive-maintenance-6PaKd1Az-py3.9/lib/site-packages/tensorflow/python/eager/def_function.py?line=914'>915</a>\u001b[0m   result \u001b[39m=\u001b[39m \u001b[39mself\u001b[39m\u001b[39m.\u001b[39m_call(\u001b[39m*\u001b[39margs, \u001b[39m*\u001b[39m\u001b[39m*\u001b[39mkwds)\n\u001b[0;32m    <a href='file:///c%3A/Users/ldronden/AppData/Local/pypoetry/Cache/virtualenvs/publieke-data-predictive-maintenance-6PaKd1Az-py3.9/lib/site-packages/tensorflow/python/eager/def_function.py?line=916'>917</a>\u001b[0m new_tracing_count \u001b[39m=\u001b[39m \u001b[39mself\u001b[39m\u001b[39m.\u001b[39mexperimental_get_tracing_count()\n\u001b[0;32m    <a href='file:///c%3A/Users/ldronden/AppData/Local/pypoetry/Cache/virtualenvs/publieke-data-predictive-maintenance-6PaKd1Az-py3.9/lib/site-packages/tensorflow/python/eager/def_function.py?line=917'>918</a>\u001b[0m without_tracing \u001b[39m=\u001b[39m (tracing_count \u001b[39m==\u001b[39m new_tracing_count)\n",
      "File \u001b[1;32mc:\\Users\\ldronden\\AppData\\Local\\pypoetry\\Cache\\virtualenvs\\publieke-data-predictive-maintenance-6PaKd1Az-py3.9\\lib\\site-packages\\tensorflow\\python\\eager\\def_function.py:947\u001b[0m, in \u001b[0;36mFunction._call\u001b[1;34m(self, *args, **kwds)\u001b[0m\n\u001b[0;32m    <a href='file:///c%3A/Users/ldronden/AppData/Local/pypoetry/Cache/virtualenvs/publieke-data-predictive-maintenance-6PaKd1Az-py3.9/lib/site-packages/tensorflow/python/eager/def_function.py?line=943'>944</a>\u001b[0m   \u001b[39mself\u001b[39m\u001b[39m.\u001b[39m_lock\u001b[39m.\u001b[39mrelease()\n\u001b[0;32m    <a href='file:///c%3A/Users/ldronden/AppData/Local/pypoetry/Cache/virtualenvs/publieke-data-predictive-maintenance-6PaKd1Az-py3.9/lib/site-packages/tensorflow/python/eager/def_function.py?line=944'>945</a>\u001b[0m   \u001b[39m# In this case we have created variables on the first call, so we run the\u001b[39;00m\n\u001b[0;32m    <a href='file:///c%3A/Users/ldronden/AppData/Local/pypoetry/Cache/virtualenvs/publieke-data-predictive-maintenance-6PaKd1Az-py3.9/lib/site-packages/tensorflow/python/eager/def_function.py?line=945'>946</a>\u001b[0m   \u001b[39m# defunned version which is guaranteed to never create variables.\u001b[39;00m\n\u001b[1;32m--> <a href='file:///c%3A/Users/ldronden/AppData/Local/pypoetry/Cache/virtualenvs/publieke-data-predictive-maintenance-6PaKd1Az-py3.9/lib/site-packages/tensorflow/python/eager/def_function.py?line=946'>947</a>\u001b[0m   \u001b[39mreturn\u001b[39;00m \u001b[39mself\u001b[39m\u001b[39m.\u001b[39m_stateless_fn(\u001b[39m*\u001b[39margs, \u001b[39m*\u001b[39m\u001b[39m*\u001b[39mkwds)  \u001b[39m# pylint: disable=not-callable\u001b[39;00m\n\u001b[0;32m    <a href='file:///c%3A/Users/ldronden/AppData/Local/pypoetry/Cache/virtualenvs/publieke-data-predictive-maintenance-6PaKd1Az-py3.9/lib/site-packages/tensorflow/python/eager/def_function.py?line=947'>948</a>\u001b[0m \u001b[39melif\u001b[39;00m \u001b[39mself\u001b[39m\u001b[39m.\u001b[39m_stateful_fn \u001b[39mis\u001b[39;00m \u001b[39mnot\u001b[39;00m \u001b[39mNone\u001b[39;00m:\n\u001b[0;32m    <a href='file:///c%3A/Users/ldronden/AppData/Local/pypoetry/Cache/virtualenvs/publieke-data-predictive-maintenance-6PaKd1Az-py3.9/lib/site-packages/tensorflow/python/eager/def_function.py?line=948'>949</a>\u001b[0m   \u001b[39m# Release the lock early so that multiple threads can perform the call\u001b[39;00m\n\u001b[0;32m    <a href='file:///c%3A/Users/ldronden/AppData/Local/pypoetry/Cache/virtualenvs/publieke-data-predictive-maintenance-6PaKd1Az-py3.9/lib/site-packages/tensorflow/python/eager/def_function.py?line=949'>950</a>\u001b[0m   \u001b[39m# in parallel.\u001b[39;00m\n\u001b[0;32m    <a href='file:///c%3A/Users/ldronden/AppData/Local/pypoetry/Cache/virtualenvs/publieke-data-predictive-maintenance-6PaKd1Az-py3.9/lib/site-packages/tensorflow/python/eager/def_function.py?line=950'>951</a>\u001b[0m   \u001b[39mself\u001b[39m\u001b[39m.\u001b[39m_lock\u001b[39m.\u001b[39mrelease()\n",
      "File \u001b[1;32mc:\\Users\\ldronden\\AppData\\Local\\pypoetry\\Cache\\virtualenvs\\publieke-data-predictive-maintenance-6PaKd1Az-py3.9\\lib\\site-packages\\tensorflow\\python\\eager\\function.py:2956\u001b[0m, in \u001b[0;36mFunction.__call__\u001b[1;34m(self, *args, **kwargs)\u001b[0m\n\u001b[0;32m   <a href='file:///c%3A/Users/ldronden/AppData/Local/pypoetry/Cache/virtualenvs/publieke-data-predictive-maintenance-6PaKd1Az-py3.9/lib/site-packages/tensorflow/python/eager/function.py?line=2952'>2953</a>\u001b[0m \u001b[39mwith\u001b[39;00m \u001b[39mself\u001b[39m\u001b[39m.\u001b[39m_lock:\n\u001b[0;32m   <a href='file:///c%3A/Users/ldronden/AppData/Local/pypoetry/Cache/virtualenvs/publieke-data-predictive-maintenance-6PaKd1Az-py3.9/lib/site-packages/tensorflow/python/eager/function.py?line=2953'>2954</a>\u001b[0m   (graph_function,\n\u001b[0;32m   <a href='file:///c%3A/Users/ldronden/AppData/Local/pypoetry/Cache/virtualenvs/publieke-data-predictive-maintenance-6PaKd1Az-py3.9/lib/site-packages/tensorflow/python/eager/function.py?line=2954'>2955</a>\u001b[0m    filtered_flat_args) \u001b[39m=\u001b[39m \u001b[39mself\u001b[39m\u001b[39m.\u001b[39m_maybe_define_function(args, kwargs)\n\u001b[1;32m-> <a href='file:///c%3A/Users/ldronden/AppData/Local/pypoetry/Cache/virtualenvs/publieke-data-predictive-maintenance-6PaKd1Az-py3.9/lib/site-packages/tensorflow/python/eager/function.py?line=2955'>2956</a>\u001b[0m \u001b[39mreturn\u001b[39;00m graph_function\u001b[39m.\u001b[39;49m_call_flat(\n\u001b[0;32m   <a href='file:///c%3A/Users/ldronden/AppData/Local/pypoetry/Cache/virtualenvs/publieke-data-predictive-maintenance-6PaKd1Az-py3.9/lib/site-packages/tensorflow/python/eager/function.py?line=2956'>2957</a>\u001b[0m     filtered_flat_args, captured_inputs\u001b[39m=\u001b[39;49mgraph_function\u001b[39m.\u001b[39;49mcaptured_inputs)\n",
      "File \u001b[1;32mc:\\Users\\ldronden\\AppData\\Local\\pypoetry\\Cache\\virtualenvs\\publieke-data-predictive-maintenance-6PaKd1Az-py3.9\\lib\\site-packages\\tensorflow\\python\\eager\\function.py:1853\u001b[0m, in \u001b[0;36mConcreteFunction._call_flat\u001b[1;34m(self, args, captured_inputs, cancellation_manager)\u001b[0m\n\u001b[0;32m   <a href='file:///c%3A/Users/ldronden/AppData/Local/pypoetry/Cache/virtualenvs/publieke-data-predictive-maintenance-6PaKd1Az-py3.9/lib/site-packages/tensorflow/python/eager/function.py?line=1848'>1849</a>\u001b[0m possible_gradient_type \u001b[39m=\u001b[39m gradients_util\u001b[39m.\u001b[39mPossibleTapeGradientTypes(args)\n\u001b[0;32m   <a href='file:///c%3A/Users/ldronden/AppData/Local/pypoetry/Cache/virtualenvs/publieke-data-predictive-maintenance-6PaKd1Az-py3.9/lib/site-packages/tensorflow/python/eager/function.py?line=1849'>1850</a>\u001b[0m \u001b[39mif\u001b[39;00m (possible_gradient_type \u001b[39m==\u001b[39m gradients_util\u001b[39m.\u001b[39mPOSSIBLE_GRADIENT_TYPES_NONE\n\u001b[0;32m   <a href='file:///c%3A/Users/ldronden/AppData/Local/pypoetry/Cache/virtualenvs/publieke-data-predictive-maintenance-6PaKd1Az-py3.9/lib/site-packages/tensorflow/python/eager/function.py?line=1850'>1851</a>\u001b[0m     \u001b[39mand\u001b[39;00m executing_eagerly):\n\u001b[0;32m   <a href='file:///c%3A/Users/ldronden/AppData/Local/pypoetry/Cache/virtualenvs/publieke-data-predictive-maintenance-6PaKd1Az-py3.9/lib/site-packages/tensorflow/python/eager/function.py?line=1851'>1852</a>\u001b[0m   \u001b[39m# No tape is watching; skip to running the function.\u001b[39;00m\n\u001b[1;32m-> <a href='file:///c%3A/Users/ldronden/AppData/Local/pypoetry/Cache/virtualenvs/publieke-data-predictive-maintenance-6PaKd1Az-py3.9/lib/site-packages/tensorflow/python/eager/function.py?line=1852'>1853</a>\u001b[0m   \u001b[39mreturn\u001b[39;00m \u001b[39mself\u001b[39m\u001b[39m.\u001b[39m_build_call_outputs(\u001b[39mself\u001b[39;49m\u001b[39m.\u001b[39;49m_inference_function\u001b[39m.\u001b[39;49mcall(\n\u001b[0;32m   <a href='file:///c%3A/Users/ldronden/AppData/Local/pypoetry/Cache/virtualenvs/publieke-data-predictive-maintenance-6PaKd1Az-py3.9/lib/site-packages/tensorflow/python/eager/function.py?line=1853'>1854</a>\u001b[0m       ctx, args, cancellation_manager\u001b[39m=\u001b[39;49mcancellation_manager))\n\u001b[0;32m   <a href='file:///c%3A/Users/ldronden/AppData/Local/pypoetry/Cache/virtualenvs/publieke-data-predictive-maintenance-6PaKd1Az-py3.9/lib/site-packages/tensorflow/python/eager/function.py?line=1854'>1855</a>\u001b[0m forward_backward \u001b[39m=\u001b[39m \u001b[39mself\u001b[39m\u001b[39m.\u001b[39m_select_forward_and_backward_functions(\n\u001b[0;32m   <a href='file:///c%3A/Users/ldronden/AppData/Local/pypoetry/Cache/virtualenvs/publieke-data-predictive-maintenance-6PaKd1Az-py3.9/lib/site-packages/tensorflow/python/eager/function.py?line=1855'>1856</a>\u001b[0m     args,\n\u001b[0;32m   <a href='file:///c%3A/Users/ldronden/AppData/Local/pypoetry/Cache/virtualenvs/publieke-data-predictive-maintenance-6PaKd1Az-py3.9/lib/site-packages/tensorflow/python/eager/function.py?line=1856'>1857</a>\u001b[0m     possible_gradient_type,\n\u001b[0;32m   <a href='file:///c%3A/Users/ldronden/AppData/Local/pypoetry/Cache/virtualenvs/publieke-data-predictive-maintenance-6PaKd1Az-py3.9/lib/site-packages/tensorflow/python/eager/function.py?line=1857'>1858</a>\u001b[0m     executing_eagerly)\n\u001b[0;32m   <a href='file:///c%3A/Users/ldronden/AppData/Local/pypoetry/Cache/virtualenvs/publieke-data-predictive-maintenance-6PaKd1Az-py3.9/lib/site-packages/tensorflow/python/eager/function.py?line=1858'>1859</a>\u001b[0m forward_function, args_with_tangents \u001b[39m=\u001b[39m forward_backward\u001b[39m.\u001b[39mforward()\n",
      "File \u001b[1;32mc:\\Users\\ldronden\\AppData\\Local\\pypoetry\\Cache\\virtualenvs\\publieke-data-predictive-maintenance-6PaKd1Az-py3.9\\lib\\site-packages\\tensorflow\\python\\eager\\function.py:499\u001b[0m, in \u001b[0;36m_EagerDefinedFunction.call\u001b[1;34m(self, ctx, args, cancellation_manager)\u001b[0m\n\u001b[0;32m    <a href='file:///c%3A/Users/ldronden/AppData/Local/pypoetry/Cache/virtualenvs/publieke-data-predictive-maintenance-6PaKd1Az-py3.9/lib/site-packages/tensorflow/python/eager/function.py?line=496'>497</a>\u001b[0m \u001b[39mwith\u001b[39;00m _InterpolateFunctionError(\u001b[39mself\u001b[39m):\n\u001b[0;32m    <a href='file:///c%3A/Users/ldronden/AppData/Local/pypoetry/Cache/virtualenvs/publieke-data-predictive-maintenance-6PaKd1Az-py3.9/lib/site-packages/tensorflow/python/eager/function.py?line=497'>498</a>\u001b[0m   \u001b[39mif\u001b[39;00m cancellation_manager \u001b[39mis\u001b[39;00m \u001b[39mNone\u001b[39;00m:\n\u001b[1;32m--> <a href='file:///c%3A/Users/ldronden/AppData/Local/pypoetry/Cache/virtualenvs/publieke-data-predictive-maintenance-6PaKd1Az-py3.9/lib/site-packages/tensorflow/python/eager/function.py?line=498'>499</a>\u001b[0m     outputs \u001b[39m=\u001b[39m execute\u001b[39m.\u001b[39;49mexecute(\n\u001b[0;32m    <a href='file:///c%3A/Users/ldronden/AppData/Local/pypoetry/Cache/virtualenvs/publieke-data-predictive-maintenance-6PaKd1Az-py3.9/lib/site-packages/tensorflow/python/eager/function.py?line=499'>500</a>\u001b[0m         \u001b[39mstr\u001b[39;49m(\u001b[39mself\u001b[39;49m\u001b[39m.\u001b[39;49msignature\u001b[39m.\u001b[39;49mname),\n\u001b[0;32m    <a href='file:///c%3A/Users/ldronden/AppData/Local/pypoetry/Cache/virtualenvs/publieke-data-predictive-maintenance-6PaKd1Az-py3.9/lib/site-packages/tensorflow/python/eager/function.py?line=500'>501</a>\u001b[0m         num_outputs\u001b[39m=\u001b[39;49m\u001b[39mself\u001b[39;49m\u001b[39m.\u001b[39;49m_num_outputs,\n\u001b[0;32m    <a href='file:///c%3A/Users/ldronden/AppData/Local/pypoetry/Cache/virtualenvs/publieke-data-predictive-maintenance-6PaKd1Az-py3.9/lib/site-packages/tensorflow/python/eager/function.py?line=501'>502</a>\u001b[0m         inputs\u001b[39m=\u001b[39;49margs,\n\u001b[0;32m    <a href='file:///c%3A/Users/ldronden/AppData/Local/pypoetry/Cache/virtualenvs/publieke-data-predictive-maintenance-6PaKd1Az-py3.9/lib/site-packages/tensorflow/python/eager/function.py?line=502'>503</a>\u001b[0m         attrs\u001b[39m=\u001b[39;49mattrs,\n\u001b[0;32m    <a href='file:///c%3A/Users/ldronden/AppData/Local/pypoetry/Cache/virtualenvs/publieke-data-predictive-maintenance-6PaKd1Az-py3.9/lib/site-packages/tensorflow/python/eager/function.py?line=503'>504</a>\u001b[0m         ctx\u001b[39m=\u001b[39;49mctx)\n\u001b[0;32m    <a href='file:///c%3A/Users/ldronden/AppData/Local/pypoetry/Cache/virtualenvs/publieke-data-predictive-maintenance-6PaKd1Az-py3.9/lib/site-packages/tensorflow/python/eager/function.py?line=504'>505</a>\u001b[0m   \u001b[39melse\u001b[39;00m:\n\u001b[0;32m    <a href='file:///c%3A/Users/ldronden/AppData/Local/pypoetry/Cache/virtualenvs/publieke-data-predictive-maintenance-6PaKd1Az-py3.9/lib/site-packages/tensorflow/python/eager/function.py?line=505'>506</a>\u001b[0m     outputs \u001b[39m=\u001b[39m execute\u001b[39m.\u001b[39mexecute_with_cancellation(\n\u001b[0;32m    <a href='file:///c%3A/Users/ldronden/AppData/Local/pypoetry/Cache/virtualenvs/publieke-data-predictive-maintenance-6PaKd1Az-py3.9/lib/site-packages/tensorflow/python/eager/function.py?line=506'>507</a>\u001b[0m         \u001b[39mstr\u001b[39m(\u001b[39mself\u001b[39m\u001b[39m.\u001b[39msignature\u001b[39m.\u001b[39mname),\n\u001b[0;32m    <a href='file:///c%3A/Users/ldronden/AppData/Local/pypoetry/Cache/virtualenvs/publieke-data-predictive-maintenance-6PaKd1Az-py3.9/lib/site-packages/tensorflow/python/eager/function.py?line=507'>508</a>\u001b[0m         num_outputs\u001b[39m=\u001b[39m\u001b[39mself\u001b[39m\u001b[39m.\u001b[39m_num_outputs,\n\u001b[1;32m   (...)\u001b[0m\n\u001b[0;32m    <a href='file:///c%3A/Users/ldronden/AppData/Local/pypoetry/Cache/virtualenvs/publieke-data-predictive-maintenance-6PaKd1Az-py3.9/lib/site-packages/tensorflow/python/eager/function.py?line=510'>511</a>\u001b[0m         ctx\u001b[39m=\u001b[39mctx,\n\u001b[0;32m    <a href='file:///c%3A/Users/ldronden/AppData/Local/pypoetry/Cache/virtualenvs/publieke-data-predictive-maintenance-6PaKd1Az-py3.9/lib/site-packages/tensorflow/python/eager/function.py?line=511'>512</a>\u001b[0m         cancellation_manager\u001b[39m=\u001b[39mcancellation_manager)\n",
      "File \u001b[1;32mc:\\Users\\ldronden\\AppData\\Local\\pypoetry\\Cache\\virtualenvs\\publieke-data-predictive-maintenance-6PaKd1Az-py3.9\\lib\\site-packages\\tensorflow\\python\\eager\\execute.py:54\u001b[0m, in \u001b[0;36mquick_execute\u001b[1;34m(op_name, num_outputs, inputs, attrs, ctx, name)\u001b[0m\n\u001b[0;32m     <a href='file:///c%3A/Users/ldronden/AppData/Local/pypoetry/Cache/virtualenvs/publieke-data-predictive-maintenance-6PaKd1Az-py3.9/lib/site-packages/tensorflow/python/eager/execute.py?line=51'>52</a>\u001b[0m \u001b[39mtry\u001b[39;00m:\n\u001b[0;32m     <a href='file:///c%3A/Users/ldronden/AppData/Local/pypoetry/Cache/virtualenvs/publieke-data-predictive-maintenance-6PaKd1Az-py3.9/lib/site-packages/tensorflow/python/eager/execute.py?line=52'>53</a>\u001b[0m   ctx\u001b[39m.\u001b[39mensure_initialized()\n\u001b[1;32m---> <a href='file:///c%3A/Users/ldronden/AppData/Local/pypoetry/Cache/virtualenvs/publieke-data-predictive-maintenance-6PaKd1Az-py3.9/lib/site-packages/tensorflow/python/eager/execute.py?line=53'>54</a>\u001b[0m   tensors \u001b[39m=\u001b[39m pywrap_tfe\u001b[39m.\u001b[39;49mTFE_Py_Execute(ctx\u001b[39m.\u001b[39;49m_handle, device_name, op_name,\n\u001b[0;32m     <a href='file:///c%3A/Users/ldronden/AppData/Local/pypoetry/Cache/virtualenvs/publieke-data-predictive-maintenance-6PaKd1Az-py3.9/lib/site-packages/tensorflow/python/eager/execute.py?line=54'>55</a>\u001b[0m                                       inputs, attrs, num_outputs)\n\u001b[0;32m     <a href='file:///c%3A/Users/ldronden/AppData/Local/pypoetry/Cache/virtualenvs/publieke-data-predictive-maintenance-6PaKd1Az-py3.9/lib/site-packages/tensorflow/python/eager/execute.py?line=55'>56</a>\u001b[0m \u001b[39mexcept\u001b[39;00m core\u001b[39m.\u001b[39m_NotOkStatusException \u001b[39mas\u001b[39;00m e:\n\u001b[0;32m     <a href='file:///c%3A/Users/ldronden/AppData/Local/pypoetry/Cache/virtualenvs/publieke-data-predictive-maintenance-6PaKd1Az-py3.9/lib/site-packages/tensorflow/python/eager/execute.py?line=56'>57</a>\u001b[0m   \u001b[39mif\u001b[39;00m name \u001b[39mis\u001b[39;00m \u001b[39mnot\u001b[39;00m \u001b[39mNone\u001b[39;00m:\n",
      "\u001b[1;31mKeyboardInterrupt\u001b[0m: "
     ]
    }
   ],
   "source": [
    "grid_search = grid_search.fit(trainX,trainY)"
   ]
  },
  {
   "cell_type": "code",
   "execution_count": null,
   "metadata": {},
   "outputs": [],
   "source": []
  }
 ],
 "metadata": {
  "interpreter": {
   "hash": "8c6af528a292c674d4817fc10816572654b4e4896486fd4f2c1b0b1fe799c55d"
  },
  "kernelspec": {
   "display_name": "Python 3.9.6 ('publieke-data-predictive-maintenance-6PaKd1Az-py3.9')",
   "language": "python",
   "name": "python3"
  },
  "language_info": {
   "codemirror_mode": {
    "name": "ipython",
    "version": 3
   },
   "file_extension": ".py",
   "mimetype": "text/x-python",
   "name": "python",
   "nbconvert_exporter": "python",
   "pygments_lexer": "ipython3",
   "version": "3.9.6"
  },
  "orig_nbformat": 4
 },
 "nbformat": 4,
 "nbformat_minor": 2
}
